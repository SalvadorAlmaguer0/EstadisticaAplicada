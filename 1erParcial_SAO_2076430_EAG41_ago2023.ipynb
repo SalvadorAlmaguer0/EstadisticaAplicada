{
 "cells": [
  {
   "cell_type": "code",
   "execution_count": 131,
   "metadata": {},
   "outputs": [],
   "source": [
    "# Librerias\n",
    "\n",
    "import numpy as np\n",
    "import pandas as pd\n",
    "import matplotlib.pyplot as plt\n",
    "%matplotlib inline"
   ]
  },
  {
   "cell_type": "markdown",
   "metadata": {},
   "source": [
    "### 1.- Carga la base de datos de películas que tiene información sobre películas, incluyendo el título(title), género (category ) y duración en minutos(length)."
   ]
  },
  {
   "cell_type": "code",
   "execution_count": 132,
   "metadata": {},
   "outputs": [
    {
     "name": "stdout",
     "output_type": "stream",
     "text": [
      "<class 'pandas.core.frame.DataFrame'>\n",
      "RangeIndex: 1000 entries, 0 to 999\n",
      "Data columns (total 8 columns):\n",
      " #   Column            Non-Null Count  Dtype  \n",
      "---  ------            --------------  -----  \n",
      " 0   title             1000 non-null   object \n",
      " 1   description       1000 non-null   object \n",
      " 2   release_year      1000 non-null   int64  \n",
      " 3   rental_rate       1000 non-null   float64\n",
      " 4   length            1000 non-null   int64  \n",
      " 5   rating            1000 non-null   object \n",
      " 6   special_features  1000 non-null   object \n",
      " 7   category          997 non-null    object \n",
      "dtypes: float64(1), int64(2), object(5)\n",
      "memory usage: 62.6+ KB\n"
     ]
    }
   ],
   "source": [
    "peliculas = pd.read_csv('https://raw.githubusercontent.com/jimmyzac/Estadistica-Aplicada-FCFM-UANL/main/bases_datos/peliculas.csv')\n",
    "peliculas.info()"
   ]
  },
  {
   "cell_type": "code",
   "execution_count": 133,
   "metadata": {},
   "outputs": [
    {
     "name": "stdout",
     "output_type": "stream",
     "text": [
      "El numero de peiculas es: 1000 \n",
      "El numero de categorias es: 16 \n",
      "Con una duracion promedio de: 115.272 minutos\n"
     ]
    }
   ],
   "source": [
    "# 1 - A) Cuantas peliculas cuantos generos y cuanto dura en promedio las peliculas\n",
    "\n",
    "\n",
    "numPeliculas = peliculas['title'].count()\n",
    "generos = peliculas['category'].value_counts().count()\n",
    "avglength = peliculas['length'].mean()\n",
    "\n",
    "print(f'El numero de peiculas es: {numPeliculas} \\nEl numero de categorias es: {generos} \\nCon una duracion promedio de: {avglength} minutos')"
   ]
  },
  {
   "cell_type": "code",
   "execution_count": 134,
   "metadata": {},
   "outputs": [
    {
     "data": {
      "text/html": [
       "<div>\n",
       "<style scoped>\n",
       "    .dataframe tbody tr th:only-of-type {\n",
       "        vertical-align: middle;\n",
       "    }\n",
       "\n",
       "    .dataframe tbody tr th {\n",
       "        vertical-align: top;\n",
       "    }\n",
       "\n",
       "    .dataframe thead th {\n",
       "        text-align: right;\n",
       "    }\n",
       "</style>\n",
       "<table border=\"1\" class=\"dataframe\">\n",
       "  <thead>\n",
       "    <tr style=\"text-align: right;\">\n",
       "      <th></th>\n",
       "      <th>title</th>\n",
       "      <th>description</th>\n",
       "      <th>release_year</th>\n",
       "      <th>rental_rate</th>\n",
       "      <th>length</th>\n",
       "      <th>rating</th>\n",
       "      <th>special_features</th>\n",
       "      <th>category</th>\n",
       "    </tr>\n",
       "  </thead>\n",
       "  <tbody>\n",
       "    <tr>\n",
       "      <th>972</th>\n",
       "      <td>Wife Turn</td>\n",
       "      <td>A Awe-Inspiring Epistle of a Teacher And a Fem...</td>\n",
       "      <td>2006</td>\n",
       "      <td>4.99</td>\n",
       "      <td>183</td>\n",
       "      <td>NC-17</td>\n",
       "      <td>Deleted Scenes,Behind the Scenes</td>\n",
       "      <td>Documentary</td>\n",
       "    </tr>\n",
       "    <tr>\n",
       "      <th>995</th>\n",
       "      <td>Young Language</td>\n",
       "      <td>A Unbelieveable Yarn of a Boat And a Database ...</td>\n",
       "      <td>2006</td>\n",
       "      <td>0.99</td>\n",
       "      <td>183</td>\n",
       "      <td>G</td>\n",
       "      <td>Trailers,Behind the Scenes</td>\n",
       "      <td>Documentary</td>\n",
       "    </tr>\n",
       "  </tbody>\n",
       "</table>\n",
       "</div>"
      ],
      "text/plain": [
       "              title                                        description   \n",
       "972       Wife Turn  A Awe-Inspiring Epistle of a Teacher And a Fem...  \\\n",
       "995  Young Language  A Unbelieveable Yarn of a Boat And a Database ...   \n",
       "\n",
       "     release_year  rental_rate  length rating   \n",
       "972          2006         4.99     183  NC-17  \\\n",
       "995          2006         0.99     183      G   \n",
       "\n",
       "                     special_features     category  \n",
       "972  Deleted Scenes,Behind the Scenes  Documentary  \n",
       "995        Trailers,Behind the Scenes  Documentary  "
      ]
     },
     "execution_count": 134,
     "metadata": {},
     "output_type": "execute_result"
    }
   ],
   "source": [
    "# 1 - B) crea un dataframe llamado películas_dormir con las películas que tienen una duración superior a 2 horas y sean documentales\n",
    "\n",
    "peliculas_dormir = peliculas[peliculas['length']>180].query('category == \"Documentary\"')\n",
    "\n",
    "peliculas_dormir"
   ]
  },
  {
   "cell_type": "code",
   "execution_count": 135,
   "metadata": {},
   "outputs": [
    {
     "name": "stdout",
     "output_type": "stream",
     "text": [
      "category\n",
      "Action         64\n",
      "Animation      66\n",
      "Children       60\n",
      "Classics       57\n",
      "Comedy         58\n",
      "Documentary    68\n",
      "Drama          61\n",
      "Family         69\n",
      "Foreign        73\n",
      "Games          61\n",
      "Horror         56\n",
      "Music          51\n",
      "New            63\n",
      "Sci-Fi         61\n",
      "Sports         73\n",
      "Travel         56\n",
      "Name: title, dtype: int64 \n",
      "\n",
      "y 3 peliculas sin Categoria\n"
     ]
    }
   ],
   "source": [
    "# 1- C) Contar cuántas películas de cada género existen\n",
    "\n",
    "print(peliculas.groupby('category').count()['title'], '\\n\\ny 3 peliculas sin Categoria')\n",
    "\n",
    "# y 3 peliculas sin categoria"
   ]
  },
  {
   "cell_type": "code",
   "execution_count": 136,
   "metadata": {},
   "outputs": [
    {
     "data": {
      "text/plain": [
       "category\n",
       "Action         111.61\n",
       "Animation      111.02\n",
       "Children       109.80\n",
       "Classics       111.67\n",
       "Comedy         115.83\n",
       "Documentary    108.75\n",
       "Drama          119.89\n",
       "Family         114.78\n",
       "Foreign        121.70\n",
       "Games          127.84\n",
       "Horror         112.48\n",
       "Music          113.65\n",
       "New            111.13\n",
       "Sci-Fi         108.20\n",
       "Sports         127.51\n",
       "Travel         113.38\n",
       "Name: length, dtype: float64"
      ]
     },
     "execution_count": 136,
     "metadata": {},
     "output_type": "execute_result"
    }
   ],
   "source": [
    "# 1 - D) Calcular la duración promedio de las películas de cada género\n",
    "\n",
    "peliculas.groupby('category')['length'].mean().round(2)"
   ]
  },
  {
   "cell_type": "code",
   "execution_count": 137,
   "metadata": {},
   "outputs": [
    {
     "data": {
      "text/html": [
       "<div>\n",
       "<style scoped>\n",
       "    .dataframe tbody tr th:only-of-type {\n",
       "        vertical-align: middle;\n",
       "    }\n",
       "\n",
       "    .dataframe tbody tr th {\n",
       "        vertical-align: top;\n",
       "    }\n",
       "\n",
       "    .dataframe thead th {\n",
       "        text-align: right;\n",
       "    }\n",
       "</style>\n",
       "<table border=\"1\" class=\"dataframe\">\n",
       "  <thead>\n",
       "    <tr style=\"text-align: right;\">\n",
       "      <th></th>\n",
       "      <th>title</th>\n",
       "      <th>length</th>\n",
       "      <th>Duracion</th>\n",
       "    </tr>\n",
       "  </thead>\n",
       "  <tbody>\n",
       "    <tr>\n",
       "      <th>0</th>\n",
       "      <td>Academy Dinosaur</td>\n",
       "      <td>86</td>\n",
       "      <td>Corta</td>\n",
       "    </tr>\n",
       "    <tr>\n",
       "      <th>1</th>\n",
       "      <td>Ace Goldfinger</td>\n",
       "      <td>48</td>\n",
       "      <td>Corta</td>\n",
       "    </tr>\n",
       "    <tr>\n",
       "      <th>2</th>\n",
       "      <td>Adaptation Holes</td>\n",
       "      <td>50</td>\n",
       "      <td>Corta</td>\n",
       "    </tr>\n",
       "    <tr>\n",
       "      <th>3</th>\n",
       "      <td>Affair Prejudice</td>\n",
       "      <td>117</td>\n",
       "      <td>Normal</td>\n",
       "    </tr>\n",
       "    <tr>\n",
       "      <th>4</th>\n",
       "      <td>African Egg</td>\n",
       "      <td>130</td>\n",
       "      <td>Normal</td>\n",
       "    </tr>\n",
       "    <tr>\n",
       "      <th>...</th>\n",
       "      <td>...</td>\n",
       "      <td>...</td>\n",
       "      <td>...</td>\n",
       "    </tr>\n",
       "    <tr>\n",
       "      <th>995</th>\n",
       "      <td>Young Language</td>\n",
       "      <td>183</td>\n",
       "      <td>Larga</td>\n",
       "    </tr>\n",
       "    <tr>\n",
       "      <th>996</th>\n",
       "      <td>Youth Kick</td>\n",
       "      <td>179</td>\n",
       "      <td>Larga</td>\n",
       "    </tr>\n",
       "    <tr>\n",
       "      <th>997</th>\n",
       "      <td>Zhivago Core</td>\n",
       "      <td>105</td>\n",
       "      <td>Normal</td>\n",
       "    </tr>\n",
       "    <tr>\n",
       "      <th>998</th>\n",
       "      <td>Zoolander Fiction</td>\n",
       "      <td>101</td>\n",
       "      <td>Normal</td>\n",
       "    </tr>\n",
       "    <tr>\n",
       "      <th>999</th>\n",
       "      <td>Zorro Ark</td>\n",
       "      <td>50</td>\n",
       "      <td>Corta</td>\n",
       "    </tr>\n",
       "  </tbody>\n",
       "</table>\n",
       "<p>1000 rows × 3 columns</p>\n",
       "</div>"
      ],
      "text/plain": [
       "                 title  length Duracion\n",
       "0     Academy Dinosaur      86    Corta\n",
       "1       Ace Goldfinger      48    Corta\n",
       "2     Adaptation Holes      50    Corta\n",
       "3     Affair Prejudice     117   Normal\n",
       "4          African Egg     130   Normal\n",
       "..                 ...     ...      ...\n",
       "995     Young Language     183    Larga\n",
       "996         Youth Kick     179    Larga\n",
       "997       Zhivago Core     105   Normal\n",
       "998  Zoolander Fiction     101   Normal\n",
       "999          Zorro Ark      50    Corta\n",
       "\n",
       "[1000 rows x 3 columns]"
      ]
     },
     "execution_count": 137,
     "metadata": {},
     "output_type": "execute_result"
    }
   ],
   "source": [
    "# 1 - E) Crear una nueva columna que indique si una película es \n",
    "# \"Corta\" (duración menor a 1.5 horas), \"Normal\" (entre 1.5 y 2.5 horas) o \"Larga\" (mayor a 2.5 horas)\n",
    "\n",
    "peliculas['Duracion'] = np.where(peliculas['length'] < 90, 'Corta', np.where(peliculas['length'] < 150, 'Normal', 'Larga'))\n",
    "\n",
    "peliculas[['title', 'length', 'Duracion']]"
   ]
  },
  {
   "cell_type": "markdown",
   "metadata": {},
   "source": [
    "### 2.- Sabemos que en el caso de México, esta formado por estados, y cada estado esta formado por municipios. La base de datos población_Asgard contiene los datos de un país llamado Asgard, formado por estados y estos a su vez por municipios. Para cada municipio se reporta su población."
   ]
  },
  {
   "cell_type": "code",
   "execution_count": 138,
   "metadata": {},
   "outputs": [],
   "source": [
    "poblacion = pd.read_csv('https://raw.githubusercontent.com/jimmyzac/Estadistica-Aplicada-FCFM-UANL/main/bases_datos/poblacion_Asgard.csv')\n"
   ]
  },
  {
   "cell_type": "code",
   "execution_count": 139,
   "metadata": {},
   "outputs": [],
   "source": [
    "# 2 - A) Ordena la base alfabéticamente por estado y por municipio\n",
    "\n",
    "poblacion = poblacion.sort_values(['Estado', 'Municipio'])"
   ]
  },
  {
   "cell_type": "code",
   "execution_count": 140,
   "metadata": {},
   "outputs": [
    {
     "name": "stdout",
     "output_type": "stream",
     "text": [
      "[1] Hay 15 estados. \n",
      "\n",
      "[2] Hay 6 municipios por estados.\n",
      "    lista: \n",
      "           Municipio\n",
      "Estado              \n",
      "Alderaan           6\n",
      "Atlantis           6\n",
      "Endor              6\n",
      "Genosha            6\n",
      "Gotham             6\n",
      "Mandalore          6\n",
      "Mordor             6\n",
      "Mustafar           6\n",
      "Naboo              6\n",
      "Narnia             6\n",
      "Pandora            6\n",
      "Sokovia            6\n",
      "Tatooine           6\n",
      "Wakanda            6\n",
      "Yaven              6 \n",
      "\n",
      "[3] Y hay 90 de nunicipios.\n"
     ]
    }
   ],
   "source": [
    "# 2 - B) Cuantos estados hay, cuantos municipios hay en cada estado y cuantos municipios hay en total.\n",
    "\n",
    "\n",
    "numEstados = len(poblacion.groupby('Estado').count())\n",
    "\n",
    "numMunicipioxEstado = pd.DataFrame(poblacion.groupby('Estado')['Municipio'].count())\n",
    "\n",
    "numMunicipio = poblacion['Municipio'].count()\n",
    "\n",
    "\n",
    "\n",
    "print(f'[1] Hay {numEstados} estados. \\n\\n[2] Hay 6 municipios por estados.\\n    lista: \\n{numMunicipioxEstado} \\n\\n[3] Y hay {numMunicipio} de nunicipios.')\n"
   ]
  },
  {
   "cell_type": "code",
   "execution_count": 141,
   "metadata": {},
   "outputs": [
    {
     "name": "stdout",
     "output_type": "stream",
     "text": [
      "El país tiene una poblacoin de : 43114719 \n",
      "\n",
      "Lista de Poblacion por Estado: \n",
      "\n",
      "           Población\n",
      "Estado              \n",
      "Alderaan     2283452\n",
      "Atlantis     3779656\n",
      "Endor        2427956\n",
      "Genosha      2871584\n",
      "Gotham       3204304\n",
      "Mandalore    2044164\n",
      "Mordor       3627119\n",
      "Mustafar     2183880\n",
      "Naboo        1602111\n",
      "Narnia       2961407\n",
      "Pandora      2959272\n",
      "Sokovia      4722224\n",
      "Tatooine     2770055\n",
      "Wakanda      2905562\n",
      "Yaven        2771973\n"
     ]
    }
   ],
   "source": [
    "# 2 - C) Cuanta población tiene el país en total y cuanta población tiene cada estado\n",
    "\n",
    "numPoblacion = poblacion['Población'].sum()\n",
    "\n",
    "numPoblacionxEstado = pd.DataFrame(poblacion.groupby('Estado')['Población'].sum())\n",
    "\n",
    "print(f'El país tiene una poblacoin de : {numPoblacion} \\n\\nLista de Poblacion por Estado: \\n\\n{numPoblacionxEstado}')\n"
   ]
  },
  {
   "cell_type": "code",
   "execution_count": 142,
   "metadata": {},
   "outputs": [
    {
     "data": {
      "text/html": [
       "<div>\n",
       "<style scoped>\n",
       "    .dataframe tbody tr th:only-of-type {\n",
       "        vertical-align: middle;\n",
       "    }\n",
       "\n",
       "    .dataframe tbody tr th {\n",
       "        vertical-align: top;\n",
       "    }\n",
       "\n",
       "    .dataframe thead th {\n",
       "        text-align: right;\n",
       "    }\n",
       "</style>\n",
       "<table border=\"1\" class=\"dataframe\">\n",
       "  <thead>\n",
       "    <tr style=\"text-align: right;\">\n",
       "      <th></th>\n",
       "      <th>País</th>\n",
       "      <th>Estado</th>\n",
       "      <th>Municipio</th>\n",
       "      <th>Población</th>\n",
       "      <th>Clasificación</th>\n",
       "    </tr>\n",
       "  </thead>\n",
       "  <tbody>\n",
       "    <tr>\n",
       "      <th>16</th>\n",
       "      <td>Asgard</td>\n",
       "      <td>Alderaan</td>\n",
       "      <td>Ciudad Jedi</td>\n",
       "      <td>130312</td>\n",
       "      <td>poco poblados</td>\n",
       "    </tr>\n",
       "    <tr>\n",
       "      <th>1</th>\n",
       "      <td>Asgard</td>\n",
       "      <td>Alderaan</td>\n",
       "      <td>Fuente Dorada</td>\n",
       "      <td>49984</td>\n",
       "      <td>poco poblados</td>\n",
       "    </tr>\n",
       "    <tr>\n",
       "      <th>31</th>\n",
       "      <td>Asgard</td>\n",
       "      <td>Alderaan</td>\n",
       "      <td>Luz azul</td>\n",
       "      <td>914910</td>\n",
       "      <td>muy poblados</td>\n",
       "    </tr>\n",
       "    <tr>\n",
       "      <th>76</th>\n",
       "      <td>Asgard</td>\n",
       "      <td>Alderaan</td>\n",
       "      <td>Madero</td>\n",
       "      <td>774290</td>\n",
       "      <td>muy poblados</td>\n",
       "    </tr>\n",
       "    <tr>\n",
       "      <th>46</th>\n",
       "      <td>Asgard</td>\n",
       "      <td>Alderaan</td>\n",
       "      <td>San Isidro</td>\n",
       "      <td>159338</td>\n",
       "      <td>poco poblados</td>\n",
       "    </tr>\n",
       "    <tr>\n",
       "      <th>...</th>\n",
       "      <td>...</td>\n",
       "      <td>...</td>\n",
       "      <td>...</td>\n",
       "      <td>...</td>\n",
       "      <td>...</td>\n",
       "    </tr>\n",
       "    <tr>\n",
       "      <th>8</th>\n",
       "      <td>Asgard</td>\n",
       "      <td>Yaven</td>\n",
       "      <td>El Bosque</td>\n",
       "      <td>649663</td>\n",
       "      <td>muy poblados</td>\n",
       "    </tr>\n",
       "    <tr>\n",
       "      <th>83</th>\n",
       "      <td>Asgard</td>\n",
       "      <td>Yaven</td>\n",
       "      <td>Green Flag</td>\n",
       "      <td>380989</td>\n",
       "      <td>poco poblados</td>\n",
       "    </tr>\n",
       "    <tr>\n",
       "      <th>68</th>\n",
       "      <td>Asgard</td>\n",
       "      <td>Yaven</td>\n",
       "      <td>Santa María</td>\n",
       "      <td>111687</td>\n",
       "      <td>poco poblados</td>\n",
       "    </tr>\n",
       "    <tr>\n",
       "      <th>53</th>\n",
       "      <td>Asgard</td>\n",
       "      <td>Yaven</td>\n",
       "      <td>Villa Wendy</td>\n",
       "      <td>646914</td>\n",
       "      <td>muy poblados</td>\n",
       "    </tr>\n",
       "    <tr>\n",
       "      <th>38</th>\n",
       "      <td>Asgard</td>\n",
       "      <td>Yaven</td>\n",
       "      <td>Villa amarilla</td>\n",
       "      <td>274109</td>\n",
       "      <td>poco poblados</td>\n",
       "    </tr>\n",
       "  </tbody>\n",
       "</table>\n",
       "<p>90 rows × 5 columns</p>\n",
       "</div>"
      ],
      "text/plain": [
       "      País    Estado       Municipio  Población  Clasificación\n",
       "16  Asgard  Alderaan     Ciudad Jedi     130312  poco poblados\n",
       "1   Asgard  Alderaan   Fuente Dorada      49984  poco poblados\n",
       "31  Asgard  Alderaan        Luz azul     914910   muy poblados\n",
       "76  Asgard  Alderaan          Madero     774290   muy poblados\n",
       "46  Asgard  Alderaan      San Isidro     159338  poco poblados\n",
       "..     ...       ...             ...        ...            ...\n",
       "8   Asgard     Yaven       El Bosque     649663   muy poblados\n",
       "83  Asgard     Yaven      Green Flag     380989  poco poblados\n",
       "68  Asgard     Yaven     Santa María     111687  poco poblados\n",
       "53  Asgard     Yaven     Villa Wendy     646914   muy poblados\n",
       "38  Asgard     Yaven  Villa amarilla     274109  poco poblados\n",
       "\n",
       "[90 rows x 5 columns]"
      ]
     },
     "execution_count": 142,
     "metadata": {},
     "output_type": "execute_result"
    }
   ],
   "source": [
    "# 2 - D) Calcula la mediana de la población de los municipios, y clasifícalos, aquellos por\n",
    "#       arriba de la mediana deben llamarse “muy poblados” y aquellos debajo de la mediana “poco poblados”\n",
    "\n",
    "media = poblacion['Población'].mean()\n",
    "\n",
    "poblacion['Clasificación'] = np.where(poblacion['Población'] > media, 'muy poblados', 'poco poblados')\n",
    "\n",
    "poblacion"
   ]
  },
  {
   "cell_type": "code",
   "execution_count": 143,
   "metadata": {},
   "outputs": [
    {
     "name": "stdout",
     "output_type": "stream",
     "text": [
      "Los 5 municipios mas poblados son: \n",
      "      Municipio  Población\n",
      "17  Ciudad Jedi      13666\n",
      "14     Luz roja      14986\n",
      "39   Villa rosa      25538\n",
      "26  Shelbyville      31535\n",
      "85  Mar violeta      44585\n",
      "\n",
      "Los 5 municipios menos poblados son: \n",
      "        Municipio  Población\n",
      "79    Yellow town     974324\n",
      "74  Gral Escobedo     974548\n",
      "6        La Unión     986067\n",
      "27    Villa Norte     997107\n",
      "34       Madripur     998079\n"
     ]
    }
   ],
   "source": [
    "# 2 - E) Encuentra los 5 municipios mas poblados y los cinco municipios menos poblados del país\n",
    "\n",
    "municipioMasPoblado = poblacion.sort_values('Población')[['Municipio', 'Población']].head(5)\n",
    "municipioMenosPoblado = poblacion.sort_values('Población')[['Municipio', 'Población']].tail(5)\n",
    "\n",
    "print(f'Los 5 municipios mas poblados son: \\n{municipioMasPoblado}\\n\\nLos 5 municipios menos poblados son: \\n{municipioMenosPoblado}')"
   ]
  },
  {
   "cell_type": "code",
   "execution_count": 156,
   "metadata": {},
   "outputs": [
    {
     "name": "stdout",
     "output_type": "stream",
     "text": [
      "Municipio mas poblado de cada Estado:\n",
      "\n",
      "       Estado         Municipio  Población\n",
      "31   Alderaan          Luz azul     914910\n",
      "88   Atlantis      Mar amarillo     961061\n",
      "69      Endor       Santa María     875371\n",
      "32    Genosha   Villa Lannister     822654\n",
      "55     Gotham       Playa Verde     918710\n",
      "71  Mandalore         San Pedro     736716\n",
      "34     Mordor          Madripur     998079\n",
      "27   Mustafar       Villa Norte     997107\n",
      "33      Naboo          Luz azul     602661\n",
      "74     Narnia     Gral Escobedo     974548\n",
      "60    Pandora  Villa Demogorgon     969140\n",
      "6     Sokovia          La Unión     986067\n",
      "50   Tatooine      Villa Marlon     925414\n",
      "82    Wakanda          Redgreen     880858\n",
      "23      Yaven          Amanecer     708611\n"
     ]
    }
   ],
   "source": [
    "# 2 - F) El municipio más poblado de cada estado\n",
    "\n",
    "poblacion.groupby('Estado')['Población'].idxmax()\n",
    "municipioMasPobladoxEstado = poblacion.loc[poblacion.groupby('Estado')['Población'].idxmax()][['Estado', 'Municipio', 'Población']]\n",
    "\n",
    "print(f'Municipio mas poblado de cada Estado:\\n\\n{municipioMasPobladoxEstado}')"
   ]
  },
  {
   "cell_type": "markdown",
   "metadata": {},
   "source": [
    "### 3.- Genera un grafico de barras de:"
   ]
  },
  {
   "cell_type": "code",
   "execution_count": 157,
   "metadata": {},
   "outputs": [],
   "source": [
    "# 3 - A) Los 15 municipios más poblados de Asgard\n",
    "\n"
   ]
  },
  {
   "cell_type": "code",
   "execution_count": 158,
   "metadata": {},
   "outputs": [],
   "source": [
    "# 3 - B) Cuantas peliculas hay de cada género\n",
    "\n"
   ]
  }
 ],
 "metadata": {
  "kernelspec": {
   "display_name": "Python 3",
   "language": "python",
   "name": "python3"
  },
  "language_info": {
   "codemirror_mode": {
    "name": "ipython",
    "version": 3
   },
   "file_extension": ".py",
   "mimetype": "text/x-python",
   "name": "python",
   "nbconvert_exporter": "python",
   "pygments_lexer": "ipython3",
   "version": "3.11.2"
  },
  "orig_nbformat": 4
 },
 "nbformat": 4,
 "nbformat_minor": 2
}
