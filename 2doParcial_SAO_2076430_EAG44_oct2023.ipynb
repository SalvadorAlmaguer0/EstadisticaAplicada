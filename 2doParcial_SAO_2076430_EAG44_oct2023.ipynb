{
 "cells": [
  {
   "cell_type": "markdown",
   "metadata": {},
   "source": [
    "# Examen Parcial 2 - Estadistica Aplicada\n",
    "Nombre: Salvador Almaguer Orta\n",
    "\n",
    "Matrícula: 2076430\n",
    "\n",
    "Grupo: 44"
   ]
  },
  {
   "cell_type": "code",
   "execution_count": 36,
   "metadata": {},
   "outputs": [],
   "source": [
    "import pandas as pd\n",
    "import numpy as np\n",
    "import matplotlib.pyplot as plt"
   ]
  },
  {
   "cell_type": "code",
   "execution_count": 37,
   "metadata": {},
   "outputs": [],
   "source": [
    "from lifelines import KaplanMeierFitter,ExponentialFitter, LogNormalFitter, WeibullFitter, CoxPHFitter"
   ]
  },
  {
   "cell_type": "markdown",
   "metadata": {},
   "source": [
    "### El  Banco  de  la  Ilusión  (BIL)  ha  reconocido  la  necesidad  de  revisar  sus  políticas  de otorgamiento de préstamos.\n",
    "\n",
    "### En  este  contexto,  sete  ha designado para  llevar  a  cabo  un  análisis  integral  de  la situación. \n",
    "\n",
    "### Se utilizará una base de datos proporcionada por el banco, que contiene información sobre los créditos y préstamos otorgados a distintos clientes. https://raw.githubusercontent.com/jimmyzac/Estadistica-Aplicada-FCFM-UANL/main/bases_datos/credit_risk.csv\n",
    "\n",
    "### La base de datos proporcionada contiene información relevante sobre cada préstamo.\n",
    "### La variable \"**crédito_pagado**\" toma el valor de 1 si el cliente ha pagado completamente el préstamo y 0 si no lo ha hecho o aún no ha terminado de pagar.\n",
    "### Además, se dispone de información sobre el tiempo en meses que lleva pagar completamente el préstamo, registrado  en  la  variable  \"**meses**\", \n",
    "### y  el  monto  del  préstamo  otorgado  en  euros, registrado en la variable \"**cantidad**\"."
   ]
  },
  {
   "cell_type": "code",
   "execution_count": 38,
   "metadata": {},
   "outputs": [],
   "source": [
    "data = pd.read_csv('https://raw.githubusercontent.com/jimmyzac/Estadistica-Aplicada-FCFM-UANL/main/bases_datos/credit_risk.csv')"
   ]
  },
  {
   "cell_type": "markdown",
   "metadata": {},
   "source": [
    "## 1. Análisis explorativo"
   ]
  },
  {
   "cell_type": "markdown",
   "metadata": {},
   "source": [
    "### a)Cuantas variables y cuantas observaciones tienenla base"
   ]
  },
  {
   "cell_type": "code",
   "execution_count": 39,
   "metadata": {},
   "outputs": [
    {
     "name": "stdout",
     "output_type": "stream",
     "text": [
      "<class 'pandas.core.frame.DataFrame'>\n",
      "RangeIndex: 1000 entries, 0 to 999\n",
      "Data columns (total 21 columns):\n",
      " #   Column                   Non-Null Count  Dtype \n",
      "---  ------                   --------------  ----- \n",
      " 0   saldo_cuenta             1000 non-null   object\n",
      " 1   meses                    1000 non-null   int64 \n",
      " 2   historia_crediticia      1000 non-null   object\n",
      " 3   uso                      1000 non-null   object\n",
      " 4   cantidad                 1000 non-null   int64 \n",
      " 5   saldo_cuenta_ahorro      817 non-null    object\n",
      " 6   años_trabajando          1000 non-null   object\n",
      " 7   tasa_de_interes          1000 non-null   int64 \n",
      " 8   genero_estado_civil      1000 non-null   object\n",
      " 9   aval                     52 non-null     object\n",
      " 10  años_actual_domicilio    1000 non-null   int64 \n",
      " 11  activos                  1000 non-null   object\n",
      " 12  edad                     1000 non-null   int64 \n",
      " 13  planes_de_pago           186 non-null    object\n",
      " 14  casa                     1000 non-null   object\n",
      " 15  numero_creditos          1000 non-null   int64 \n",
      " 16  situacion_laboral        1000 non-null   object\n",
      " 17  dependientes_economicos  1000 non-null   int64 \n",
      " 18  telefono                 1000 non-null   int64 \n",
      " 19  extranjero               1000 non-null   int64 \n",
      " 20  credito_pagado           1000 non-null   int64 \n",
      "dtypes: int64(10), object(11)\n",
      "memory usage: 164.2+ KB\n"
     ]
    }
   ],
   "source": [
    "data.info()"
   ]
  },
  {
   "cell_type": "markdown",
   "metadata": {},
   "source": [
    "***La base tiene 21 variables y 1,000 observaciones***"
   ]
  },
  {
   "cell_type": "markdown",
   "metadata": {},
   "source": [
    "### b)Cuál es el monto promedio de los créditos otorgados por el banco"
   ]
  },
  {
   "cell_type": "code",
   "execution_count": 40,
   "metadata": {},
   "outputs": [
    {
     "name": "stdout",
     "output_type": "stream",
     "text": [
      "El monto promedio de los creditos otorgados por el banco es: 3271.258 Euros\n"
     ]
    }
   ],
   "source": [
    "creditos_promedio = data['cantidad'].mean()\n",
    "print(f'El monto promedio de los creditos otorgados por el banco es: {creditos_promedio} Euros')"
   ]
  },
  {
   "cell_type": "markdown",
   "metadata": {},
   "source": [
    "### c)Cuáles  el  tiempo  promedio  que  se  tardaron  en  pagar  el  préstamo  los que pagaron el préstamo en su totalidad"
   ]
  },
  {
   "cell_type": "code",
   "execution_count": 41,
   "metadata": {},
   "outputs": [
    {
     "name": "stdout",
     "output_type": "stream",
     "text": [
      "El tiempo pormedio que se tardaron en pagar el prestamo es de: 20.903 meses\n"
     ]
    }
   ],
   "source": [
    "mes_promedio = data['meses'].mean()\n",
    "print(f'El tiempo pormedio que se tardaron en pagar el prestamo es de: {mes_promedio} meses')"
   ]
  },
  {
   "cell_type": "markdown",
   "metadata": {},
   "source": [
    "### d)Cuáles la tasa de interés promedio otorgada por el banco"
   ]
  },
  {
   "cell_type": "code",
   "execution_count": 42,
   "metadata": {},
   "outputs": [
    {
     "name": "stdout",
     "output_type": "stream",
     "text": [
      "La tasa de interés promedio otorgada por el banco es de: 2.973%\n"
     ]
    }
   ],
   "source": [
    "tasa_interes_promedio = data['tasa_de_interes'].mean()\n",
    "print(f'La tasa de interés promedio otorgada por el banco es de: {tasa_interes_promedio}%')"
   ]
  },
  {
   "cell_type": "markdown",
   "metadata": {},
   "source": [
    "### e)Cuál es el monto promedio y la tasa de interés promedio de los que ya pagaron"
   ]
  },
  {
   "cell_type": "code",
   "execution_count": 43,
   "metadata": {},
   "outputs": [
    {
     "name": "stdout",
     "output_type": "stream",
     "text": [
      "El monto promedio de los que pagaron es: 2985.46 Euros \n",
      "La tasa de interes promedio de los que pagaron es: 2.92%\n"
     ]
    }
   ],
   "source": [
    "tasa_interes_promedio_pagado = data[ data['credito_pagado'] == 1 ] ['tasa_de_interes' ].mean()\n",
    "monto_promedio_pagado = round(data[ data['credito_pagado'] == 1 ] ['cantidad' ].mean(),2)\n",
    "\n",
    "print(f'El monto promedio de los que pagaron es: {monto_promedio_pagado} Euros \\nLa tasa de interes promedio de los que pagaron es: {tasa_interes_promedio_pagado}%')"
   ]
  },
  {
   "cell_type": "markdown",
   "metadata": {},
   "source": [
    "### f)Cuál es el monto promedio y la tasa de interés promedio de los que no han pagado "
   ]
  },
  {
   "cell_type": "code",
   "execution_count": 44,
   "metadata": {},
   "outputs": [
    {
     "name": "stdout",
     "output_type": "stream",
     "text": [
      "El monto promedio de los que no pagaron es: 3938.13 Euros \n",
      "La tasa de interes promedio de los que no pagaron es: 3.097%\n"
     ]
    }
   ],
   "source": [
    "tasa_interes_promedio_no_pagado = round(data[ data['credito_pagado'] == 0 ] ['tasa_de_interes' ].mean(),3)\n",
    "monto_promedio_no_pagado = round(data[ data['credito_pagado'] == 0 ] ['cantidad' ].mean(),2)\n",
    "\n",
    "print(f'El monto promedio de los que no pagaron es: {monto_promedio_no_pagado} Euros \\nLa tasa de interes promedio de los que no pagaron es: {tasa_interes_promedio_no_pagado}%')"
   ]
  },
  {
   "cell_type": "markdown",
   "metadata": {},
   "source": [
    "## 2.Estime un modelo de Kaplan-meier "
   ]
  },
  {
   "cell_type": "code",
   "execution_count": 45,
   "metadata": {},
   "outputs": [],
   "source": [
    "modelo_km = KaplanMeierFitter().fit(data['meses'], data['credito_pagado'])"
   ]
  },
  {
   "cell_type": "markdown",
   "metadata": {},
   "source": [
    "### a)cuál es la mediana del tiempo y que significa"
   ]
  },
  {
   "cell_type": "code",
   "execution_count": 46,
   "metadata": {},
   "outputs": [
    {
     "data": {
      "text/plain": [
       "24.0"
      ]
     },
     "execution_count": 46,
     "metadata": {},
     "output_type": "execute_result"
    }
   ],
   "source": [
    "mediana = modelo_km.median_survival_time_\n",
    "mediana"
   ]
  },
  {
   "cell_type": "markdown",
   "metadata": {},
   "source": [
    "#### ***La mediana del tiempo que tardan en pagar es de 24 meses, esto significa que la mitad de la gente pago antes de los 24 meses***"
   ]
  },
  {
   "cell_type": "markdown",
   "metadata": {},
   "source": [
    "### b)es mayor/menor que el tiempo promedio del inciso 1c"
   ]
  },
  {
   "cell_type": "markdown",
   "metadata": {},
   "source": [
    "#### ***Es Mayor***"
   ]
  },
  {
   "cell_type": "markdown",
   "metadata": {},
   "source": [
    "## 3.Determine si el riesgo de que el préstamo se pague en su totalidad es constante, creciente, decreciente, o tipo log-normal respecto al tiempo"
   ]
  },
  {
   "cell_type": "code",
   "execution_count": 47,
   "metadata": {},
   "outputs": [
    {
     "data": {
      "text/plain": [
       "(6157.194686589735, 5900.981425445045, 5813.747334550531)"
      ]
     },
     "execution_count": 47,
     "metadata": {},
     "output_type": "execute_result"
    }
   ],
   "source": [
    "mexpo = ExponentialFitter().fit(data['meses'],data['credito_pagado'])\n",
    "mweibull = WeibullFitter().fit(data['meses'],data['credito_pagado'])\n",
    "mlog = LogNormalFitter().fit(data['meses'],data['credito_pagado'])\n",
    "\n",
    "mexpo.AIC_, mweibull.AIC_, mlog.AIC_"
   ]
  },
  {
   "cell_type": "code",
   "execution_count": 48,
   "metadata": {},
   "outputs": [
    {
     "data": {
      "image/png": "[encoded data removed]",
      "text/plain": [
       "<Figure size 640x480 with 1 Axes>"
      ]
     },
     "metadata": {},
     "output_type": "display_data"
    }
   ],
   "source": [
    "mlog.plot_hazard(label='función de riesgo')\n",
    "plt.title('Función de riesgo de que una empresa\\nquebre segun la funcoin Log-Nomal')\n",
    "plt.xlim(4,72)\n",
    "plt.xlabel('Meses')\n",
    "plt.ylabel('Riesgo')\n",
    "plt.show()"
   ]
  },
  {
   "cell_type": "markdown",
   "metadata": {},
   "source": [
    "### ***El riesgo que presenta nuestro modelo es tipo log-normal respecto al tiempo.***"
   ]
  },
  {
   "cell_type": "markdown",
   "metadata": {},
   "source": [
    "## 4.Estimar un modelo de Cox para ver qué factores influyen sobre el riesgo de que el préstamo se pague en su totalidad"
   ]
  },
  {
   "cell_type": "markdown",
   "metadata": {},
   "source": [
    "### a)A parte de “tasa de interes” y “cantidad”, elige otras cuatro variables que creas que afectan el riesgo del evento"
   ]
  },
  {
   "cell_type": "markdown",
   "metadata": {},
   "source": [
    "#### Para este modelo se escojeran las sigueinte variables:\n",
    "***edad***\n",
    "\n",
    "***casa***\n",
    "\n",
    "***extranjero***\n",
    "\n",
    "***numero_creditos***"
   ]
  },
  {
   "cell_type": "markdown",
   "metadata": {},
   "source": [
    "### b)Di si cada una de las 6 variables que elegiste, aumentan/disminuyen el riesgo del evento y por qué"
   ]
  },
  {
   "cell_type": "markdown",
   "metadata": {},
   "source": [
    "\n",
    "***edad***: Esperaria que mientras mayor edad tenga los prestatarios tengan una economia mas estable y puedan pagar antes o aumente el riesgo de pagar su deuda.\n",
    "\n",
    "***casa***: Se espera que al tener casa propia, entonces, de esta manera signifique que tenga una economia mas estable y pueda pagar antes o aumente el riesgo de pagar su deuda en comparacion con los que no tienen casa propia.\n",
    "\n",
    "***extranjero***: Al ser un prestatario de otra nacion, su compromiso con saldar la deuda con bancos de otra nacionalidad no es tan grande y por l tanto se esperaria que esta variable disminuya el reisgo de pagar la deuda.\n",
    "\n",
    "***numero_creditos***: Al contar con mayor cantidad de creditos, considerando que mientras mas creditos tenga es porque si suele pagar pensando en que si el banco les presto antes y pago, entonces, es un prestatario que si suele pagar sus prestamos. Asi que se esperaria que esta variable aumente el riesgo de pagar el credito."
   ]
  },
  {
   "cell_type": "markdown",
   "metadata": {},
   "source": [
    "### c)Realiza las transformaciones adecuadas para utilizar las variables en un modelo de cox"
   ]
  },
  {
   "cell_type": "code",
   "execution_count": 49,
   "metadata": {},
   "outputs": [
    {
     "name": "stderr",
     "output_type": "stream",
     "text": [
      "C:\\Users\\A\\AppData\\Local\\Temp\\ipykernel_7108\\3717905942.py:3: SettingWithCopyWarning: \n",
      "A value is trying to be set on a copy of a slice from a DataFrame.\n",
      "Try using .loc[row_indexer,col_indexer] = value instead\n",
      "\n",
      "See the caveats in the documentation: https://pandas.pydata.org/pandas-docs/stable/user_guide/indexing.html#returning-a-view-versus-a-copy\n",
      "  data_new['casa'] = np.where(data_new['casa'] == 'propia', 1, 0) # la variable casa se tomara como 1-> si tine casa propia, 0-> si no tiene casa propia\n"
     ]
    },
    {
     "data": {
      "text/plain": [
       "credito_pagado     0\n",
       "meses              0\n",
       "tasa_de_interes    0\n",
       "cantidad           0\n",
       "edad               0\n",
       "casa               0\n",
       "extranjero         0\n",
       "numero_creditos    0\n",
       "dtype: int64"
      ]
     },
     "execution_count": 49,
     "metadata": {},
     "output_type": "execute_result"
    }
   ],
   "source": [
    "# Se escojeran las variables: edad, casa, extranjero y numero_creditos\n",
    "data_new = data[['credito_pagado', 'meses', 'tasa_de_interes', 'cantidad', 'edad', 'casa', 'extranjero', 'numero_creditos']]\n",
    "data_new['casa'] = np.where(data_new['casa'] == 'propia', 1, 0) # la variable casa se tomara como 1-> si tine casa propia, 0-> si no tiene casa propia\n",
    "\n",
    "data_new.isnull().sum() # No hay nulos"
   ]
  },
  {
   "cell_type": "markdown",
   "metadata": {},
   "source": [
    "### d)Estima  un  modelo  de  cox  con  las  variables  elegidas  e  interpreta  los coeficientes."
   ]
  },
  {
   "cell_type": "code",
   "execution_count": 50,
   "metadata": {},
   "outputs": [
    {
     "data": {
      "text/html": [
       "<div>\n",
       "<style scoped>\n",
       "    .dataframe tbody tr th:only-of-type {\n",
       "        vertical-align: middle;\n",
       "    }\n",
       "\n",
       "    .dataframe tbody tr th {\n",
       "        vertical-align: top;\n",
       "    }\n",
       "\n",
       "    .dataframe thead th {\n",
       "        text-align: right;\n",
       "    }\n",
       "</style>\n",
       "<table border=\"1\" class=\"dataframe\">\n",
       "  <tbody>\n",
       "    <tr>\n",
       "      <th>model</th>\n",
       "      <td>lifelines.CoxPHFitter</td>\n",
       "    </tr>\n",
       "    <tr>\n",
       "      <th>duration col</th>\n",
       "      <td>'meses'</td>\n",
       "    </tr>\n",
       "    <tr>\n",
       "      <th>event col</th>\n",
       "      <td>'credito_pagado'</td>\n",
       "    </tr>\n",
       "    <tr>\n",
       "      <th>baseline estimation</th>\n",
       "      <td>breslow</td>\n",
       "    </tr>\n",
       "    <tr>\n",
       "      <th>number of observations</th>\n",
       "      <td>1000</td>\n",
       "    </tr>\n",
       "    <tr>\n",
       "      <th>number of events observed</th>\n",
       "      <td>700</td>\n",
       "    </tr>\n",
       "    <tr>\n",
       "      <th>partial log-likelihood</th>\n",
       "      <td>-4039.72</td>\n",
       "    </tr>\n",
       "    <tr>\n",
       "      <th>time fit was run</th>\n",
       "      <td>2023-10-07 20:15:23 UTC</td>\n",
       "    </tr>\n",
       "  </tbody>\n",
       "</table>\n",
       "</div><table border=\"1\" class=\"dataframe\">\n",
       "  <thead>\n",
       "    <tr style=\"text-align: right;\">\n",
       "      <th style=\"min-width: 12px;\"></th>\n",
       "      <th style=\"min-width: 12px;\">coef</th>\n",
       "      <th style=\"min-width: 12px;\">exp(coef)</th>\n",
       "      <th style=\"min-width: 12px;\">se(coef)</th>\n",
       "      <th style=\"min-width: 12px;\">coef lower 95%</th>\n",
       "      <th style=\"min-width: 12px;\">coef upper 95%</th>\n",
       "      <th style=\"min-width: 12px;\">exp(coef) lower 95%</th>\n",
       "      <th style=\"min-width: 12px;\">exp(coef) upper 95%</th>\n",
       "      <th style=\"min-width: 12px;\">cmp to</th>\n",
       "      <th style=\"min-width: 12px;\">z</th>\n",
       "      <th style=\"min-width: 12px;\">p</th>\n",
       "      <th style=\"min-width: 12px;\">-log2(p)</th>\n",
       "    </tr>\n",
       "  </thead>\n",
       "  <tbody>\n",
       "    <tr>\n",
       "      <th>tasa_de_interes</th>\n",
       "      <td>-0.41</td>\n",
       "      <td>0.67</td>\n",
       "      <td>0.04</td>\n",
       "      <td>-0.48</td>\n",
       "      <td>-0.33</td>\n",
       "      <td>0.62</td>\n",
       "      <td>0.72</td>\n",
       "      <td>0.00</td>\n",
       "      <td>-11.08</td>\n",
       "      <td>&lt;0.005</td>\n",
       "      <td>92.44</td>\n",
       "    </tr>\n",
       "    <tr>\n",
       "      <th>cantidad</th>\n",
       "      <td>-0.00</td>\n",
       "      <td>1.00</td>\n",
       "      <td>0.00</td>\n",
       "      <td>-0.00</td>\n",
       "      <td>-0.00</td>\n",
       "      <td>1.00</td>\n",
       "      <td>1.00</td>\n",
       "      <td>0.00</td>\n",
       "      <td>-16.13</td>\n",
       "      <td>&lt;0.005</td>\n",
       "      <td>192.12</td>\n",
       "    </tr>\n",
       "    <tr>\n",
       "      <th>edad</th>\n",
       "      <td>0.02</td>\n",
       "      <td>1.02</td>\n",
       "      <td>0.00</td>\n",
       "      <td>0.01</td>\n",
       "      <td>0.02</td>\n",
       "      <td>1.01</td>\n",
       "      <td>1.02</td>\n",
       "      <td>0.00</td>\n",
       "      <td>4.54</td>\n",
       "      <td>&lt;0.005</td>\n",
       "      <td>17.47</td>\n",
       "    </tr>\n",
       "    <tr>\n",
       "      <th>casa</th>\n",
       "      <td>0.21</td>\n",
       "      <td>1.23</td>\n",
       "      <td>0.09</td>\n",
       "      <td>0.04</td>\n",
       "      <td>0.38</td>\n",
       "      <td>1.04</td>\n",
       "      <td>1.46</td>\n",
       "      <td>0.00</td>\n",
       "      <td>2.36</td>\n",
       "      <td>0.02</td>\n",
       "      <td>5.77</td>\n",
       "    </tr>\n",
       "    <tr>\n",
       "      <th>extranjero</th>\n",
       "      <td>-1.20</td>\n",
       "      <td>0.30</td>\n",
       "      <td>0.18</td>\n",
       "      <td>-1.56</td>\n",
       "      <td>-0.84</td>\n",
       "      <td>0.21</td>\n",
       "      <td>0.43</td>\n",
       "      <td>0.00</td>\n",
       "      <td>-6.50</td>\n",
       "      <td>&lt;0.005</td>\n",
       "      <td>33.53</td>\n",
       "    </tr>\n",
       "    <tr>\n",
       "      <th>numero_creditos</th>\n",
       "      <td>0.12</td>\n",
       "      <td>1.12</td>\n",
       "      <td>0.07</td>\n",
       "      <td>-0.01</td>\n",
       "      <td>0.25</td>\n",
       "      <td>0.99</td>\n",
       "      <td>1.28</td>\n",
       "      <td>0.00</td>\n",
       "      <td>1.74</td>\n",
       "      <td>0.08</td>\n",
       "      <td>3.61</td>\n",
       "    </tr>\n",
       "  </tbody>\n",
       "</table><br><div>\n",
       "<style scoped>\n",
       "    .dataframe tbody tr th:only-of-type {\n",
       "        vertical-align: middle;\n",
       "    }\n",
       "\n",
       "    .dataframe tbody tr th {\n",
       "        vertical-align: top;\n",
       "    }\n",
       "\n",
       "    .dataframe thead th {\n",
       "        text-align: right;\n",
       "    }\n",
       "</style>\n",
       "<table border=\"1\" class=\"dataframe\">\n",
       "  <tbody>\n",
       "    <tr>\n",
       "      <th>Concordance</th>\n",
       "      <td>0.78</td>\n",
       "    </tr>\n",
       "    <tr>\n",
       "      <th>Partial AIC</th>\n",
       "      <td>8091.43</td>\n",
       "    </tr>\n",
       "    <tr>\n",
       "      <th>log-likelihood ratio test</th>\n",
       "      <td>459.34 on 6 df</td>\n",
       "    </tr>\n",
       "    <tr>\n",
       "      <th>-log2(p) of ll-ratio test</th>\n",
       "      <td>316.64</td>\n",
       "    </tr>\n",
       "  </tbody>\n",
       "</table>\n",
       "</div>"
      ],
      "text/latex": [
       "\\begin{tabular}{lrrrrrrrrrrr}\n",
       " & coef & exp(coef) & se(coef) & coef lower 95% & coef upper 95% & exp(coef) lower 95% & exp(coef) upper 95% & cmp to & z & p & -log2(p) \\\\\n",
       "covariate &  &  &  &  &  &  &  &  &  &  &  \\\\\n",
       "tasa_de_interes & -0.41 & 0.67 & 0.04 & -0.48 & -0.33 & 0.62 & 0.72 & 0.00 & -11.08 & 0.00 & 92.44 \\\\\n",
       "cantidad & -0.00 & 1.00 & 0.00 & -0.00 & -0.00 & 1.00 & 1.00 & 0.00 & -16.13 & 0.00 & 192.12 \\\\\n",
       "edad & 0.02 & 1.02 & 0.00 & 0.01 & 0.02 & 1.01 & 1.02 & 0.00 & 4.54 & 0.00 & 17.47 \\\\\n",
       "casa & 0.21 & 1.23 & 0.09 & 0.04 & 0.38 & 1.04 & 1.46 & 0.00 & 2.36 & 0.02 & 5.77 \\\\\n",
       "extranjero & -1.20 & 0.30 & 0.18 & -1.56 & -0.84 & 0.21 & 0.43 & 0.00 & -6.50 & 0.00 & 33.53 \\\\\n",
       "numero_creditos & 0.12 & 1.12 & 0.07 & -0.01 & 0.25 & 0.99 & 1.28 & 0.00 & 1.74 & 0.08 & 3.61 \\\\\n",
       "\\end{tabular}\n"
      ],
      "text/plain": [
       "<lifelines.CoxPHFitter: fitted with 1000 total observations, 300 right-censored observations>\n",
       "             duration col = 'meses'\n",
       "                event col = 'credito_pagado'\n",
       "      baseline estimation = breslow\n",
       "   number of observations = 1000\n",
       "number of events observed = 700\n",
       "   partial log-likelihood = -4039.72\n",
       "         time fit was run = 2023-10-07 20:15:23 UTC\n",
       "\n",
       "---\n",
       "                  coef  exp(coef)   se(coef)   coef lower 95%   coef upper 95%  exp(coef) lower 95%  exp(coef) upper 95%\n",
       "covariate                                                                                                               \n",
       "tasa_de_interes  -0.41       0.67       0.04            -0.48            -0.33                 0.62                 0.72\n",
       "cantidad         -0.00       1.00       0.00            -0.00            -0.00                 1.00                 1.00\n",
       "edad              0.02       1.02       0.00             0.01             0.02                 1.01                 1.02\n",
       "casa              0.21       1.23       0.09             0.04             0.38                 1.04                 1.46\n",
       "extranjero       -1.20       0.30       0.18            -1.56            -0.84                 0.21                 0.43\n",
       "numero_creditos   0.12       1.12       0.07            -0.01             0.25                 0.99                 1.28\n",
       "\n",
       "                  cmp to      z      p   -log2(p)\n",
       "covariate                                        \n",
       "tasa_de_interes     0.00 -11.08 <0.005      92.44\n",
       "cantidad            0.00 -16.13 <0.005     192.12\n",
       "edad                0.00   4.54 <0.005      17.47\n",
       "casa                0.00   2.36   0.02       5.77\n",
       "extranjero          0.00  -6.50 <0.005      33.53\n",
       "numero_creditos     0.00   1.74   0.08       3.61\n",
       "---\n",
       "Concordance = 0.78\n",
       "Partial AIC = 8091.43\n",
       "log-likelihood ratio test = 459.34 on 6 df\n",
       "-log2(p) of ll-ratio test = 316.64"
      ]
     },
     "metadata": {},
     "output_type": "display_data"
    }
   ],
   "source": [
    "cph = CoxPHFitter().fit(data_new, 'meses', 'credito_pagado')\n",
    "cph.print_summary()"
   ]
  },
  {
   "cell_type": "markdown",
   "metadata": {},
   "source": [
    "***tasa_de_interes:*** Debido a que el p_valor < 0.05; Entonces esta variable si afecta al riesgo de pagar el credito, y por cada punto de porcentaje (1%) de interes el riesgo diminuye en 33% (suponiendo que en la tabla 2 significa 2%).\n",
    "\n",
    "***cantidad:*** Debido a que el p_valor < 0.05; Entonces esta variable si afecta al riesgo de pagar el credito, y por cada Euro el riesgo de pagar el credito dismimuye en 0.00037%.\n",
    "\n",
    "***edad:*** Debido a que el p_valor < 0.05; Entonces esta variable si afecta al riesgo de pagar el credito, y por cada año de edad el riesgo de pagar el credito aumenta en 2%.\n",
    "\n",
    "***casa:*** Debido a que el p_valor < 0.05; Entonces esta variable si afecta al riesgo de pagar el credito, y por tener casa propia aumenta el riesgo de pagar el credito en 23% en comparacion con no tener casa propia.\n",
    "\n",
    "***extranjero:*** Debido a que el p_valor < 0.05; Entonces esta variable si afecta al riesgo de pagar el credito, y por ser extranjero disminuye el riesgo de pagar el credito en 70% en comparacion con no ser extranjero.\n",
    "\n",
    "***numero_creditos:*** Debido a que el p_valor > 0.05; Entonces esta variable NO afecta al riesgo de pagar el credito."
   ]
  },
  {
   "cell_type": "markdown",
   "metadata": {},
   "source": [
    "## 5.Con  base  en  los  cálculos  realizados,  redacta  un  comentario integral de  por  lo menos  250 palabras que  resuma  el  análisis,  reflexiones  y  recomendaciones sobre la política de otorgamiento de créditos en el Banco de la Ilusión."
   ]
  },
  {
   "cell_type": "markdown",
   "metadata": {},
   "source": [
    "#### *En este análisis, nuestro objetivo era estudiar el comportamiento de los clientes que solicitan préstamos y los factores que influyen en el riesgo de impago. Para ello, utilizamos una muestra de datos de 1000 clientes que solicitaron préstamos entre enero y diciembre de 2023. Los datos incluían variables como la cantidad solicitada, la tasa de interés, el plazo, la edad, el estado civil, el nivel educativo, el tipo de vivienda y la nacionalidad.*\n",
    "\n",
    "\n",
    "#### *Con las actuales políticas, el monto promedio de préstamo por cliente es de 3271.25 Euros y en promedio se tardan en pagar el crédito 21 meses, pero la mitad de los prestatarios pagan antes de los 24 meses. La tasa de interés promedio es de 2.973% y el riesgo de impago tiene una forma tipo log-normal. Esto significa que la mayoría de los clientes tienen un riesgo bajo o moderado, pero hay algunos casos extremos con un riesgo muy alto.*\n",
    "\n",
    "\n",
    "#### *También descubrimos que aparte de las variables de ‘tasa de interés’ y ‘cantidad’, otras buenas variables que influyen en el riesgo de impago en nuestro modelo son las variables ‘edad’, ‘casa’ y ‘extranjero’. Observamos que a mayor edad, menor es el riesgo de impago, lo que puede deberse a una mayor estabilidad financiera y laboral. Asimismo, tener una casa propia reduce el riesgo de impago, ya que implica un menor gasto en alquiler y una mayor capacidad de ahorro. Por último, ser extranjero disminuye mucho la probabilidad de no pagar el crédito en comparación con no ser extranjero. Esto puede deberse a que los extranjeros tienen más dificultades para acceder al crédito y por tanto son más cuidadosos a la hora de devolverlo.*\n",
    "\n",
    "#### *Por lo tanto, se recomienda regular las políticas de préstamo a extranjeros, ya que son un segmento con un alto riesgo de inpago y una alta demanda potencial. También se sugiere revisar los criterios de elegibilidad y las condiciones de los préstamos para adaptarlos mejor al perfil y las necesidades de cada cliente.*\n",
    "\n",
    "*Notece que se menciono 'alto riesgo de inpago' siendo lo mismo que 'bajo riesgo de pago' y viseversa*\n"
   ]
  }
 ],
 "metadata": {
  "kernelspec": {
   "display_name": "Python 3",
   "language": "python",
   "name": "python3"
  },
  "language_info": {
   "codemirror_mode": {
    "name": "ipython",
    "version": 3
   },
   "file_extension": ".py",
   "mimetype": "text/x-python",
   "name": "python",
   "nbconvert_exporter": "python",
   "pygments_lexer": "ipython3",
   "version": "3.10.0"
  },
  "orig_nbformat": 4
 },
 "nbformat": 4,
 "nbformat_minor": 2
}
