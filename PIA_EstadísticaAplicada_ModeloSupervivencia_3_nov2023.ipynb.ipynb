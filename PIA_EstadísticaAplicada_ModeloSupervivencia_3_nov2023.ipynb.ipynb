{
 "cells": [
  {
   "cell_type": "markdown",
   "metadata": {},
   "source": [
    "Estadistica Aplicada - Proyecto Integrador del Aprendizaje (PIA)\n",
    "\n",
    "Salvador Almaguer Orta - 2076430 \n",
    "\n",
    "Originalmente del grupo 41, peor iba a clase en el grupo 44\n",
    "\n",
    "Nombre de equipo: 3"
   ]
  },
  {
   "cell_type": "code",
   "execution_count": 2,
   "metadata": {},
   "outputs": [],
   "source": [
    "import pandas as pd\n",
    "import numpy as np\n",
    "import matplotlib.pyplot as plt\n",
    "\n",
    "plt.rcParams['figure.figsize'] = (10,6)\n",
    "import seaborn as sns\n",
    "sns.set() # Para visualizar mejor la grafica\n",
    "\n",
    "from lifelines import KaplanMeierFitter, CoxPHFitter\n",
    "from lifelines.statistics import logrank_test"
   ]
  },
  {
   "cell_type": "code",
   "execution_count": 3,
   "metadata": {},
   "outputs": [
    {
     "data": {
      "text/html": [
       "<div>\n",
       "<style scoped>\n",
       "    .dataframe tbody tr th:only-of-type {\n",
       "        vertical-align: middle;\n",
       "    }\n",
       "\n",
       "    .dataframe tbody tr th {\n",
       "        vertical-align: top;\n",
       "    }\n",
       "\n",
       "    .dataframe thead th {\n",
       "        text-align: right;\n",
       "    }\n",
       "</style>\n",
       "<table border=\"1\" class=\"dataframe\">\n",
       "  <thead>\n",
       "    <tr style=\"text-align: right;\">\n",
       "      <th></th>\n",
       "      <th>saldo_cuenta</th>\n",
       "      <th>meses</th>\n",
       "      <th>historia_crediticia</th>\n",
       "      <th>uso</th>\n",
       "      <th>cantidad</th>\n",
       "      <th>saldo_cuenta_ahorro</th>\n",
       "      <th>años_trabajando</th>\n",
       "      <th>tasa_de_interes</th>\n",
       "      <th>genero_estado_civil</th>\n",
       "      <th>aval</th>\n",
       "      <th>...</th>\n",
       "      <th>activos</th>\n",
       "      <th>edad</th>\n",
       "      <th>planes_de_pago</th>\n",
       "      <th>casa</th>\n",
       "      <th>numero_creditos</th>\n",
       "      <th>situacion_laboral</th>\n",
       "      <th>dependientes_economicos</th>\n",
       "      <th>telefono</th>\n",
       "      <th>extranjero</th>\n",
       "      <th>credito_pagado</th>\n",
       "    </tr>\n",
       "  </thead>\n",
       "  <tbody>\n",
       "    <tr>\n",
       "      <th>0</th>\n",
       "      <td>menor_a_cero</td>\n",
       "      <td>6</td>\n",
       "      <td>no_ha_pagado</td>\n",
       "      <td>TV</td>\n",
       "      <td>1169</td>\n",
       "      <td>NaN</td>\n",
       "      <td>mas_de_7</td>\n",
       "      <td>4</td>\n",
       "      <td>hombre_soltero</td>\n",
       "      <td>NaN</td>\n",
       "      <td>...</td>\n",
       "      <td>bienes_raices</td>\n",
       "      <td>67</td>\n",
       "      <td>NaN</td>\n",
       "      <td>propia</td>\n",
       "      <td>2</td>\n",
       "      <td>gobierno</td>\n",
       "      <td>1</td>\n",
       "      <td>1</td>\n",
       "      <td>1</td>\n",
       "      <td>1</td>\n",
       "    </tr>\n",
       "    <tr>\n",
       "      <th>1</th>\n",
       "      <td>cero_a_200</td>\n",
       "      <td>48</td>\n",
       "      <td>pago_algun_credito</td>\n",
       "      <td>TV</td>\n",
       "      <td>5951</td>\n",
       "      <td>menor_100</td>\n",
       "      <td>1_a_4</td>\n",
       "      <td>2</td>\n",
       "      <td>mujer_no_soltera</td>\n",
       "      <td>NaN</td>\n",
       "      <td>...</td>\n",
       "      <td>bienes_raices</td>\n",
       "      <td>22</td>\n",
       "      <td>NaN</td>\n",
       "      <td>propia</td>\n",
       "      <td>1</td>\n",
       "      <td>gobierno</td>\n",
       "      <td>1</td>\n",
       "      <td>0</td>\n",
       "      <td>1</td>\n",
       "      <td>0</td>\n",
       "    </tr>\n",
       "    <tr>\n",
       "      <th>2</th>\n",
       "      <td>sin_cuenta</td>\n",
       "      <td>12</td>\n",
       "      <td>no_ha_pagado</td>\n",
       "      <td>colegiaturas</td>\n",
       "      <td>2096</td>\n",
       "      <td>menor_100</td>\n",
       "      <td>4_a_7</td>\n",
       "      <td>2</td>\n",
       "      <td>hombre_soltero</td>\n",
       "      <td>NaN</td>\n",
       "      <td>...</td>\n",
       "      <td>bienes_raices</td>\n",
       "      <td>49</td>\n",
       "      <td>NaN</td>\n",
       "      <td>propia</td>\n",
       "      <td>1</td>\n",
       "      <td>obrero</td>\n",
       "      <td>2</td>\n",
       "      <td>0</td>\n",
       "      <td>1</td>\n",
       "      <td>1</td>\n",
       "    </tr>\n",
       "    <tr>\n",
       "      <th>3</th>\n",
       "      <td>menor_a_cero</td>\n",
       "      <td>42</td>\n",
       "      <td>pago_algun_credito</td>\n",
       "      <td>mobiliario</td>\n",
       "      <td>7882</td>\n",
       "      <td>menor_100</td>\n",
       "      <td>4_a_7</td>\n",
       "      <td>2</td>\n",
       "      <td>hombre_soltero</td>\n",
       "      <td>aval</td>\n",
       "      <td>...</td>\n",
       "      <td>seguro_vida</td>\n",
       "      <td>45</td>\n",
       "      <td>NaN</td>\n",
       "      <td>prestada</td>\n",
       "      <td>1</td>\n",
       "      <td>gobierno</td>\n",
       "      <td>2</td>\n",
       "      <td>0</td>\n",
       "      <td>1</td>\n",
       "      <td>1</td>\n",
       "    </tr>\n",
       "    <tr>\n",
       "      <th>4</th>\n",
       "      <td>menor_a_cero</td>\n",
       "      <td>24</td>\n",
       "      <td>pago_retrasado</td>\n",
       "      <td>coche_nuevo</td>\n",
       "      <td>4870</td>\n",
       "      <td>menor_100</td>\n",
       "      <td>1_a_4</td>\n",
       "      <td>3</td>\n",
       "      <td>hombre_soltero</td>\n",
       "      <td>NaN</td>\n",
       "      <td>...</td>\n",
       "      <td>sin_activos</td>\n",
       "      <td>53</td>\n",
       "      <td>NaN</td>\n",
       "      <td>prestada</td>\n",
       "      <td>2</td>\n",
       "      <td>gobierno</td>\n",
       "      <td>2</td>\n",
       "      <td>0</td>\n",
       "      <td>1</td>\n",
       "      <td>0</td>\n",
       "    </tr>\n",
       "    <tr>\n",
       "      <th>...</th>\n",
       "      <td>...</td>\n",
       "      <td>...</td>\n",
       "      <td>...</td>\n",
       "      <td>...</td>\n",
       "      <td>...</td>\n",
       "      <td>...</td>\n",
       "      <td>...</td>\n",
       "      <td>...</td>\n",
       "      <td>...</td>\n",
       "      <td>...</td>\n",
       "      <td>...</td>\n",
       "      <td>...</td>\n",
       "      <td>...</td>\n",
       "      <td>...</td>\n",
       "      <td>...</td>\n",
       "      <td>...</td>\n",
       "      <td>...</td>\n",
       "      <td>...</td>\n",
       "      <td>...</td>\n",
       "      <td>...</td>\n",
       "      <td>...</td>\n",
       "    </tr>\n",
       "    <tr>\n",
       "      <th>995</th>\n",
       "      <td>sin_cuenta</td>\n",
       "      <td>12</td>\n",
       "      <td>pago_algun_credito</td>\n",
       "      <td>mobiliario</td>\n",
       "      <td>1736</td>\n",
       "      <td>menor_100</td>\n",
       "      <td>4_a_7</td>\n",
       "      <td>3</td>\n",
       "      <td>mujer_no_soltera</td>\n",
       "      <td>NaN</td>\n",
       "      <td>...</td>\n",
       "      <td>bienes_raices</td>\n",
       "      <td>31</td>\n",
       "      <td>NaN</td>\n",
       "      <td>propia</td>\n",
       "      <td>1</td>\n",
       "      <td>obrero</td>\n",
       "      <td>1</td>\n",
       "      <td>0</td>\n",
       "      <td>1</td>\n",
       "      <td>1</td>\n",
       "    </tr>\n",
       "    <tr>\n",
       "      <th>996</th>\n",
       "      <td>menor_a_cero</td>\n",
       "      <td>30</td>\n",
       "      <td>pago_algun_credito</td>\n",
       "      <td>coche_usado</td>\n",
       "      <td>3857</td>\n",
       "      <td>menor_100</td>\n",
       "      <td>1_a_4</td>\n",
       "      <td>4</td>\n",
       "      <td>hombre_divorciado</td>\n",
       "      <td>NaN</td>\n",
       "      <td>...</td>\n",
       "      <td>seguro_vida</td>\n",
       "      <td>40</td>\n",
       "      <td>NaN</td>\n",
       "      <td>propia</td>\n",
       "      <td>1</td>\n",
       "      <td>administrativo</td>\n",
       "      <td>1</td>\n",
       "      <td>1</td>\n",
       "      <td>1</td>\n",
       "      <td>1</td>\n",
       "    </tr>\n",
       "    <tr>\n",
       "      <th>997</th>\n",
       "      <td>sin_cuenta</td>\n",
       "      <td>12</td>\n",
       "      <td>pago_algun_credito</td>\n",
       "      <td>TV</td>\n",
       "      <td>804</td>\n",
       "      <td>menor_100</td>\n",
       "      <td>mas_de_7</td>\n",
       "      <td>4</td>\n",
       "      <td>hombre_soltero</td>\n",
       "      <td>NaN</td>\n",
       "      <td>...</td>\n",
       "      <td>otro_tipo</td>\n",
       "      <td>38</td>\n",
       "      <td>NaN</td>\n",
       "      <td>propia</td>\n",
       "      <td>1</td>\n",
       "      <td>gobierno</td>\n",
       "      <td>1</td>\n",
       "      <td>0</td>\n",
       "      <td>1</td>\n",
       "      <td>1</td>\n",
       "    </tr>\n",
       "    <tr>\n",
       "      <th>998</th>\n",
       "      <td>menor_a_cero</td>\n",
       "      <td>45</td>\n",
       "      <td>pago_algun_credito</td>\n",
       "      <td>TV</td>\n",
       "      <td>1845</td>\n",
       "      <td>menor_100</td>\n",
       "      <td>1_a_4</td>\n",
       "      <td>4</td>\n",
       "      <td>hombre_soltero</td>\n",
       "      <td>NaN</td>\n",
       "      <td>...</td>\n",
       "      <td>sin_activos</td>\n",
       "      <td>23</td>\n",
       "      <td>NaN</td>\n",
       "      <td>prestada</td>\n",
       "      <td>1</td>\n",
       "      <td>gobierno</td>\n",
       "      <td>1</td>\n",
       "      <td>1</td>\n",
       "      <td>1</td>\n",
       "      <td>0</td>\n",
       "    </tr>\n",
       "    <tr>\n",
       "      <th>999</th>\n",
       "      <td>cero_a_200</td>\n",
       "      <td>45</td>\n",
       "      <td>no_ha_pagado</td>\n",
       "      <td>coche_usado</td>\n",
       "      <td>4576</td>\n",
       "      <td>100_a_500</td>\n",
       "      <td>desempleado</td>\n",
       "      <td>3</td>\n",
       "      <td>hombre_soltero</td>\n",
       "      <td>NaN</td>\n",
       "      <td>...</td>\n",
       "      <td>otro_tipo</td>\n",
       "      <td>27</td>\n",
       "      <td>NaN</td>\n",
       "      <td>propia</td>\n",
       "      <td>1</td>\n",
       "      <td>gobierno</td>\n",
       "      <td>1</td>\n",
       "      <td>0</td>\n",
       "      <td>1</td>\n",
       "      <td>1</td>\n",
       "    </tr>\n",
       "  </tbody>\n",
       "</table>\n",
       "<p>1000 rows × 21 columns</p>\n",
       "</div>"
      ],
      "text/plain": [
       "     saldo_cuenta  meses historia_crediticia           uso  cantidad  \\\n",
       "0    menor_a_cero      6        no_ha_pagado            TV      1169   \n",
       "1      cero_a_200     48  pago_algun_credito            TV      5951   \n",
       "2      sin_cuenta     12        no_ha_pagado  colegiaturas      2096   \n",
       "3    menor_a_cero     42  pago_algun_credito    mobiliario      7882   \n",
       "4    menor_a_cero     24      pago_retrasado   coche_nuevo      4870   \n",
       "..            ...    ...                 ...           ...       ...   \n",
       "995    sin_cuenta     12  pago_algun_credito    mobiliario      1736   \n",
       "996  menor_a_cero     30  pago_algun_credito   coche_usado      3857   \n",
       "997    sin_cuenta     12  pago_algun_credito            TV       804   \n",
       "998  menor_a_cero     45  pago_algun_credito            TV      1845   \n",
       "999    cero_a_200     45        no_ha_pagado   coche_usado      4576   \n",
       "\n",
       "    saldo_cuenta_ahorro años_trabajando  tasa_de_interes genero_estado_civil  \\\n",
       "0                   NaN        mas_de_7                4      hombre_soltero   \n",
       "1             menor_100           1_a_4                2    mujer_no_soltera   \n",
       "2             menor_100           4_a_7                2      hombre_soltero   \n",
       "3             menor_100           4_a_7                2      hombre_soltero   \n",
       "4             menor_100           1_a_4                3      hombre_soltero   \n",
       "..                  ...             ...              ...                 ...   \n",
       "995           menor_100           4_a_7                3    mujer_no_soltera   \n",
       "996           menor_100           1_a_4                4   hombre_divorciado   \n",
       "997           menor_100        mas_de_7                4      hombre_soltero   \n",
       "998           menor_100           1_a_4                4      hombre_soltero   \n",
       "999           100_a_500     desempleado                3      hombre_soltero   \n",
       "\n",
       "     aval  ...        activos edad  planes_de_pago      casa numero_creditos  \\\n",
       "0     NaN  ...  bienes_raices   67             NaN    propia               2   \n",
       "1     NaN  ...  bienes_raices   22             NaN    propia               1   \n",
       "2     NaN  ...  bienes_raices   49             NaN    propia               1   \n",
       "3    aval  ...    seguro_vida   45             NaN  prestada               1   \n",
       "4     NaN  ...    sin_activos   53             NaN  prestada               2   \n",
       "..    ...  ...            ...  ...             ...       ...             ...   \n",
       "995   NaN  ...  bienes_raices   31             NaN    propia               1   \n",
       "996   NaN  ...    seguro_vida   40             NaN    propia               1   \n",
       "997   NaN  ...      otro_tipo   38             NaN    propia               1   \n",
       "998   NaN  ...    sin_activos   23             NaN  prestada               1   \n",
       "999   NaN  ...      otro_tipo   27             NaN    propia               1   \n",
       "\n",
       "     situacion_laboral dependientes_economicos  telefono  extranjero  \\\n",
       "0             gobierno                       1         1           1   \n",
       "1             gobierno                       1         0           1   \n",
       "2               obrero                       2         0           1   \n",
       "3             gobierno                       2         0           1   \n",
       "4             gobierno                       2         0           1   \n",
       "..                 ...                     ...       ...         ...   \n",
       "995             obrero                       1         0           1   \n",
       "996     administrativo                       1         1           1   \n",
       "997           gobierno                       1         0           1   \n",
       "998           gobierno                       1         1           1   \n",
       "999           gobierno                       1         0           1   \n",
       "\n",
       "     credito_pagado  \n",
       "0                 1  \n",
       "1                 0  \n",
       "2                 1  \n",
       "3                 1  \n",
       "4                 0  \n",
       "..              ...  \n",
       "995               1  \n",
       "996               1  \n",
       "997               1  \n",
       "998               0  \n",
       "999               1  \n",
       "\n",
       "[1000 rows x 21 columns]"
      ]
     },
     "execution_count": 3,
     "metadata": {},
     "output_type": "execute_result"
    }
   ],
   "source": [
    "datos = pd.read_csv('https://raw.githubusercontent.com/jimmyzac/Estadistica-Aplicada-FCFM-UANL/main/bases_datos/credit_risk.csv')\n",
    "datos"
   ]
  },
  {
   "cell_type": "markdown",
   "metadata": {},
   "source": [
    "# 1. Introducción"
   ]
  },
  {
   "cell_type": "markdown",
   "metadata": {},
   "source": [
    "La base de datos a analizar llamada \"credit_risk\" (Riesgo de credito) la cual se compone de de 1000 registros de clientes de un banco, esta base mide el riesgo el reisgo que tienen los clientes de pagar o no su credito en base a su suledo, historial, tamaño del credito (cantidad), ahorros, tiempo tarbajando, enero, edad, situacion laboral, si es extranjero, entre otras.\n",
    "\n",
    "El evento de la base es si estos clientes han pagado su credito\n",
    "\n",
    "Y las dimenciones de la base estan en un periodo mensual"
   ]
  },
  {
   "cell_type": "markdown",
   "metadata": {},
   "source": [
    "# 2. ¿Por que es importante el analisis de supervivencia en esta base de datos?"
   ]
  },
  {
   "cell_type": "markdown",
   "metadata": {},
   "source": [
    "Para el banco en cuestion es muy importante conocer la probabilidad de que sus clientes paguen este credito, la importancia de conocer esto es para clasificar a los clientes y en base a este criterio decidir si es o no riesgoso el otorgar otro credito a clientes con similares caracteristicas."
   ]
  },
  {
   "cell_type": "markdown",
   "metadata": {},
   "source": [
    "# 3. Datos censurados"
   ]
  },
  {
   "cell_type": "code",
   "execution_count": 4,
   "metadata": {},
   "outputs": [
    {
     "data": {
      "text/plain": [
       "credito_pagado\n",
       "1    700\n",
       "0    300\n",
       "Name: count, dtype: int64"
      ]
     },
     "execution_count": 4,
     "metadata": {},
     "output_type": "execute_result"
    }
   ],
   "source": [
    "datos['credito_pagado'].value_counts()"
   ]
  },
  {
   "cell_type": "markdown",
   "metadata": {},
   "source": [
    "En base al codigo anterior, podemos identificar que:\n",
    "Se presentan 700 valores de 1, los cuales significan que 700 clienets ya pagaron su credito.\n",
    "Y 300 valores 0, los cuales significan que aun no han pagado su credito.\n",
    "\n",
    "Por lo tanto estos 300 valores de 0 son nuestros datos censurados, lo que queire decir que, estos 300 clientes no sabemos cuando pagaran su credito.\n"
   ]
  },
  {
   "cell_type": "markdown",
   "metadata": {},
   "source": [
    "# 4. Dummies"
   ]
  },
  {
   "cell_type": "code",
   "execution_count": 5,
   "metadata": {},
   "outputs": [
    {
     "data": {
      "text/plain": [
       "saldo_cuenta               object\n",
       "meses                       int64\n",
       "historia_crediticia        object\n",
       "uso                        object\n",
       "cantidad                    int64\n",
       "saldo_cuenta_ahorro        object\n",
       "años_trabajando            object\n",
       "tasa_de_interes             int64\n",
       "genero_estado_civil        object\n",
       "aval                       object\n",
       "años_actual_domicilio       int64\n",
       "activos                    object\n",
       "edad                        int64\n",
       "planes_de_pago             object\n",
       "casa                       object\n",
       "numero_creditos             int64\n",
       "situacion_laboral          object\n",
       "dependientes_economicos     int64\n",
       "telefono                    int64\n",
       "extranjero                  int64\n",
       "credito_pagado              int64\n",
       "dtype: object"
      ]
     },
     "execution_count": 5,
     "metadata": {},
     "output_type": "execute_result"
    }
   ],
   "source": [
    "datos.dtypes"
   ]
  },
  {
   "cell_type": "markdown",
   "metadata": {},
   "source": [
    "Debemos combertir en variables numericas las variables que tienen como tipo de datos 'object'"
   ]
  },
  {
   "cell_type": "code",
   "execution_count": 6,
   "metadata": {},
   "outputs": [],
   "source": [
    "datos_dummies = datos"
   ]
  },
  {
   "cell_type": "code",
   "execution_count": 7,
   "metadata": {},
   "outputs": [],
   "source": [
    "dummie_saldo_cuenta = pd.get_dummies(datos_dummies[\"saldo_cuenta\"]).astype(\"int64\")\n",
    "dummie_saldo_cuenta = dummie_saldo_cuenta[[\"sin_cuenta\", \"cero_a_200\", \"mas_de_200\"]]\n",
    "\n",
    "datos_dummies = pd.concat([datos_dummies,dummie_saldo_cuenta],axis=1)\n",
    "datos_dummies = datos_dummies.drop('saldo_cuenta',axis=1)"
   ]
  },
  {
   "cell_type": "code",
   "execution_count": 8,
   "metadata": {},
   "outputs": [],
   "source": [
    "dummie_historia_crediticia = pd.get_dummies(datos_dummies[\"historia_crediticia\"]).astype(\"int64\")\n",
    "dummie_historia_crediticia = dummie_historia_crediticia.drop(\"no_ha_pagado\", axis=1)\n",
    "\n",
    "datos_dummies = pd.concat([datos_dummies,dummie_historia_crediticia],axis=1)\n",
    "datos_dummies = datos_dummies.drop('historia_crediticia',axis=1)"
   ]
  },
  {
   "cell_type": "code",
   "execution_count": 9,
   "metadata": {},
   "outputs": [],
   "source": [
    "dummie_uso = pd.get_dummies(datos_dummies[\"uso\"]).astype(\"int64\")\n",
    "dummie_uso = dummie_uso.drop(\"utensilios_hogar\", axis=1)\n",
    "\n",
    "datos_dummies = pd.concat([datos_dummies,dummie_uso],axis=1)\n",
    "datos_dummies = datos_dummies.drop('uso',axis=1)"
   ]
  },
  {
   "cell_type": "code",
   "execution_count": 10,
   "metadata": {},
   "outputs": [],
   "source": [
    "dummie_saldo_cuenta_ahorro = pd.get_dummies(datos_dummies[\"saldo_cuenta_ahorro\"]).astype(\"int64\")\n",
    "dummie_saldo_cuenta_ahorro = dummie_saldo_cuenta_ahorro[[\"menor_100\", \"100_a_500\", \"500_a_1000\"]]\n",
    "\n",
    "datos_dummies = pd.concat([datos_dummies,dummie_saldo_cuenta_ahorro],axis=1)\n",
    "datos_dummies = datos_dummies.drop('saldo_cuenta_ahorro',axis=1)"
   ]
  },
  {
   "cell_type": "code",
   "execution_count": 11,
   "metadata": {},
   "outputs": [],
   "source": [
    "dummie_años_trabajando = pd.get_dummies(datos_dummies[\"años_trabajando\"]).astype(\"int64\")\n",
    "dummie_años_trabajando = dummie_años_trabajando.drop(\"mas_de_7\", axis=1)\n",
    "\n",
    "datos_dummies = pd.concat([datos_dummies,dummie_años_trabajando],axis=1)\n",
    "datos_dummies = datos_dummies.drop('años_trabajando',axis=1)"
   ]
  },
  {
   "cell_type": "code",
   "execution_count": 12,
   "metadata": {},
   "outputs": [],
   "source": [
    "dummie_genero_estado_civil = pd.get_dummies(datos_dummies[\"genero_estado_civil\"]).astype(\"int64\")\n",
    "dummie_genero_estado_civil = dummie_genero_estado_civil[[\"hombre_soltero\", \"mujer_no_soltera\"]]\n",
    "\n",
    "datos_dummies = pd.concat([datos_dummies,dummie_genero_estado_civil],axis=1)\n",
    "datos_dummies = datos_dummies.drop('genero_estado_civil',axis=1)"
   ]
  },
  {
   "cell_type": "code",
   "execution_count": 13,
   "metadata": {},
   "outputs": [],
   "source": [
    "dummie_aval = pd.get_dummies(datos_dummies[\"aval\"]).astype(\"int64\")\n",
    "\n",
    "datos_dummies = pd.concat([datos_dummies,dummie_aval],axis=1)\n",
    "datos_dummies = datos_dummies.drop('aval',axis=1)"
   ]
  },
  {
   "cell_type": "code",
   "execution_count": 14,
   "metadata": {},
   "outputs": [],
   "source": [
    "dummie_activos = pd.get_dummies(datos_dummies[\"activos\"]).astype(\"int64\")\n",
    "dummie_activos = dummie_activos.drop(\"otro_tipo\", axis=1)\n",
    "\n",
    "datos_dummies = pd.concat([datos_dummies,dummie_activos],axis=1)\n",
    "datos_dummies = datos_dummies.drop('activos',axis=1)"
   ]
  },
  {
   "cell_type": "code",
   "execution_count": 15,
   "metadata": {},
   "outputs": [],
   "source": [
    "dummie_planes_de_pago = pd.get_dummies(datos_dummies[\"planes_de_pago\"]).astype(\"int64\")\n",
    "dummie_planes_de_pago = dummie_planes_de_pago.drop(\"departamental\", axis=1)\n",
    "\n",
    "datos_dummies = pd.concat([datos_dummies,dummie_planes_de_pago],axis=1)\n",
    "datos_dummies = datos_dummies.drop('planes_de_pago',axis=1)"
   ]
  },
  {
   "cell_type": "code",
   "execution_count": 16,
   "metadata": {},
   "outputs": [],
   "source": [
    "dummie_casa = pd.get_dummies(datos_dummies[\"casa\"]).astype(\"int64\")\n",
    "dummie_casa = dummie_casa[[\"propia\", \"renta\"]]\n",
    "\n",
    "datos_dummies = pd.concat([datos_dummies,dummie_casa],axis=1)\n",
    "datos_dummies = datos_dummies.drop('casa',axis=1)"
   ]
  },
  {
   "cell_type": "code",
   "execution_count": 17,
   "metadata": {},
   "outputs": [],
   "source": [
    "dummie_situacion_laboral = pd.get_dummies(datos_dummies[\"situacion_laboral\"]).astype(\"int64\")\n",
    "dummie_situacion_laboral = dummie_situacion_laboral.drop(\"administrativo\", axis=1)\n",
    "\n",
    "datos_dummies = pd.concat([datos_dummies,dummie_situacion_laboral],axis=1)\n",
    "datos_dummies = datos_dummies.drop('situacion_laboral',axis=1)"
   ]
  },
  {
   "cell_type": "code",
   "execution_count": 18,
   "metadata": {},
   "outputs": [
    {
     "data": {
      "text/plain": [
       "meses                      int64\n",
       "cantidad                   int64\n",
       "tasa_de_interes            int64\n",
       "años_actual_domicilio      int64\n",
       "edad                       int64\n",
       "numero_creditos            int64\n",
       "dependientes_economicos    int64\n",
       "telefono                   int64\n",
       "extranjero                 int64\n",
       "credito_pagado             int64\n",
       "sin_cuenta                 int64\n",
       "cero_a_200                 int64\n",
       "mas_de_200                 int64\n",
       "pago_algun_credito         int64\n",
       "pago_retrasado             int64\n",
       "pago_todos                 int64\n",
       "sin_creditos               int64\n",
       "TV                         int64\n",
       "coche_nuevo                int64\n",
       "coche_usado                int64\n",
       "colegiaturas               int64\n",
       "mobiliario                 int64\n",
       "otros                      int64\n",
       "poner_negocio              int64\n",
       "reestructuración           int64\n",
       "reparaciones               int64\n",
       "menor_100                  int64\n",
       "100_a_500                  int64\n",
       "500_a_1000                 int64\n",
       "1_a_4                      int64\n",
       "4_a_7                      int64\n",
       "desempleado                int64\n",
       "menor_a_1                  int64\n",
       "hombre_soltero             int64\n",
       "mujer_no_soltera           int64\n",
       "bienes_raices              int64\n",
       "seguro_vida                int64\n",
       "sin_activos                int64\n",
       "bancario                   int64\n",
       "propia                     int64\n",
       "renta                      int64\n",
       "desempleado                int64\n",
       "gobierno                   int64\n",
       "obrero                     int64\n",
       "dtype: object"
      ]
     },
     "execution_count": 18,
     "metadata": {},
     "output_type": "execute_result"
    }
   ],
   "source": [
    "datos_dummies.dtypes"
   ]
  },
  {
   "cell_type": "markdown",
   "metadata": {},
   "source": [
    "Hora todas las variables son numericas"
   ]
  },
  {
   "cell_type": "markdown",
   "metadata": {},
   "source": [
    "# 5. Missing values y duplicados"
   ]
  },
  {
   "cell_type": "code",
   "execution_count": 19,
   "metadata": {},
   "outputs": [
    {
     "name": "stdout",
     "output_type": "stream",
     "text": [
      "Missing values: 0\n",
      "Duplicados: 0\n"
     ]
    }
   ],
   "source": [
    "print(f'Missing values: {datos_dummies.isnull().sum().sum()}')\n",
    "print(f'Duplicados: {datos_dummies.duplicated().sum()}')"
   ]
  },
  {
   "cell_type": "markdown",
   "metadata": {},
   "source": [
    "La base de datos no presenta missing values ni duplicados"
   ]
  },
  {
   "cell_type": "markdown",
   "metadata": {},
   "source": [
    "# 6. Estadisticas descriptivas"
   ]
  },
  {
   "cell_type": "code",
   "execution_count": 20,
   "metadata": {},
   "outputs": [
    {
     "data": {
      "text/html": [
       "<div>\n",
       "<style scoped>\n",
       "    .dataframe tbody tr th:only-of-type {\n",
       "        vertical-align: middle;\n",
       "    }\n",
       "\n",
       "    .dataframe tbody tr th {\n",
       "        vertical-align: top;\n",
       "    }\n",
       "\n",
       "    .dataframe thead th {\n",
       "        text-align: right;\n",
       "    }\n",
       "</style>\n",
       "<table border=\"1\" class=\"dataframe\">\n",
       "  <thead>\n",
       "    <tr style=\"text-align: right;\">\n",
       "      <th></th>\n",
       "      <th>meses</th>\n",
       "      <th>cantidad</th>\n",
       "      <th>tasa_de_interes</th>\n",
       "      <th>años_actual_domicilio</th>\n",
       "      <th>edad</th>\n",
       "      <th>numero_creditos</th>\n",
       "      <th>dependientes_economicos</th>\n",
       "      <th>telefono</th>\n",
       "      <th>extranjero</th>\n",
       "      <th>credito_pagado</th>\n",
       "    </tr>\n",
       "  </thead>\n",
       "  <tbody>\n",
       "    <tr>\n",
       "      <th>count</th>\n",
       "      <td>1000.000000</td>\n",
       "      <td>1000.000000</td>\n",
       "      <td>1000.000000</td>\n",
       "      <td>1000.000000</td>\n",
       "      <td>1000.000000</td>\n",
       "      <td>1000.000000</td>\n",
       "      <td>1000.000000</td>\n",
       "      <td>1000.000000</td>\n",
       "      <td>1000.000000</td>\n",
       "      <td>1000.000000</td>\n",
       "    </tr>\n",
       "    <tr>\n",
       "      <th>mean</th>\n",
       "      <td>20.903000</td>\n",
       "      <td>3271.258000</td>\n",
       "      <td>2.973000</td>\n",
       "      <td>2.845000</td>\n",
       "      <td>35.546000</td>\n",
       "      <td>1.407000</td>\n",
       "      <td>1.155000</td>\n",
       "      <td>0.404000</td>\n",
       "      <td>0.963000</td>\n",
       "      <td>0.700000</td>\n",
       "    </tr>\n",
       "    <tr>\n",
       "      <th>std</th>\n",
       "      <td>12.058814</td>\n",
       "      <td>2822.736876</td>\n",
       "      <td>1.118715</td>\n",
       "      <td>1.103718</td>\n",
       "      <td>11.375469</td>\n",
       "      <td>0.577654</td>\n",
       "      <td>0.362086</td>\n",
       "      <td>0.490943</td>\n",
       "      <td>0.188856</td>\n",
       "      <td>0.458487</td>\n",
       "    </tr>\n",
       "    <tr>\n",
       "      <th>min</th>\n",
       "      <td>4.000000</td>\n",
       "      <td>250.000000</td>\n",
       "      <td>1.000000</td>\n",
       "      <td>1.000000</td>\n",
       "      <td>19.000000</td>\n",
       "      <td>1.000000</td>\n",
       "      <td>1.000000</td>\n",
       "      <td>0.000000</td>\n",
       "      <td>0.000000</td>\n",
       "      <td>0.000000</td>\n",
       "    </tr>\n",
       "    <tr>\n",
       "      <th>25%</th>\n",
       "      <td>12.000000</td>\n",
       "      <td>1365.500000</td>\n",
       "      <td>2.000000</td>\n",
       "      <td>2.000000</td>\n",
       "      <td>27.000000</td>\n",
       "      <td>1.000000</td>\n",
       "      <td>1.000000</td>\n",
       "      <td>0.000000</td>\n",
       "      <td>1.000000</td>\n",
       "      <td>0.000000</td>\n",
       "    </tr>\n",
       "    <tr>\n",
       "      <th>50%</th>\n",
       "      <td>18.000000</td>\n",
       "      <td>2319.500000</td>\n",
       "      <td>3.000000</td>\n",
       "      <td>3.000000</td>\n",
       "      <td>33.000000</td>\n",
       "      <td>1.000000</td>\n",
       "      <td>1.000000</td>\n",
       "      <td>0.000000</td>\n",
       "      <td>1.000000</td>\n",
       "      <td>1.000000</td>\n",
       "    </tr>\n",
       "    <tr>\n",
       "      <th>75%</th>\n",
       "      <td>24.000000</td>\n",
       "      <td>3972.250000</td>\n",
       "      <td>4.000000</td>\n",
       "      <td>4.000000</td>\n",
       "      <td>42.000000</td>\n",
       "      <td>2.000000</td>\n",
       "      <td>1.000000</td>\n",
       "      <td>1.000000</td>\n",
       "      <td>1.000000</td>\n",
       "      <td>1.000000</td>\n",
       "    </tr>\n",
       "    <tr>\n",
       "      <th>max</th>\n",
       "      <td>72.000000</td>\n",
       "      <td>18424.000000</td>\n",
       "      <td>4.000000</td>\n",
       "      <td>4.000000</td>\n",
       "      <td>75.000000</td>\n",
       "      <td>4.000000</td>\n",
       "      <td>2.000000</td>\n",
       "      <td>1.000000</td>\n",
       "      <td>1.000000</td>\n",
       "      <td>1.000000</td>\n",
       "    </tr>\n",
       "  </tbody>\n",
       "</table>\n",
       "</div>"
      ],
      "text/plain": [
       "             meses      cantidad  tasa_de_interes  años_actual_domicilio  \\\n",
       "count  1000.000000   1000.000000      1000.000000            1000.000000   \n",
       "mean     20.903000   3271.258000         2.973000               2.845000   \n",
       "std      12.058814   2822.736876         1.118715               1.103718   \n",
       "min       4.000000    250.000000         1.000000               1.000000   \n",
       "25%      12.000000   1365.500000         2.000000               2.000000   \n",
       "50%      18.000000   2319.500000         3.000000               3.000000   \n",
       "75%      24.000000   3972.250000         4.000000               4.000000   \n",
       "max      72.000000  18424.000000         4.000000               4.000000   \n",
       "\n",
       "              edad  numero_creditos  dependientes_economicos     telefono  \\\n",
       "count  1000.000000      1000.000000              1000.000000  1000.000000   \n",
       "mean     35.546000         1.407000                 1.155000     0.404000   \n",
       "std      11.375469         0.577654                 0.362086     0.490943   \n",
       "min      19.000000         1.000000                 1.000000     0.000000   \n",
       "25%      27.000000         1.000000                 1.000000     0.000000   \n",
       "50%      33.000000         1.000000                 1.000000     0.000000   \n",
       "75%      42.000000         2.000000                 1.000000     1.000000   \n",
       "max      75.000000         4.000000                 2.000000     1.000000   \n",
       "\n",
       "        extranjero  credito_pagado  \n",
       "count  1000.000000     1000.000000  \n",
       "mean      0.963000        0.700000  \n",
       "std       0.188856        0.458487  \n",
       "min       0.000000        0.000000  \n",
       "25%       1.000000        0.000000  \n",
       "50%       1.000000        1.000000  \n",
       "75%       1.000000        1.000000  \n",
       "max       1.000000        1.000000  "
      ]
     },
     "execution_count": 20,
     "metadata": {},
     "output_type": "execute_result"
    }
   ],
   "source": [
    "datos.describe()"
   ]
  },
  {
   "cell_type": "markdown",
   "metadata": {},
   "source": [
    "# 7. Caracteristicas de la base de datos"
   ]
  },
  {
   "cell_type": "markdown",
   "metadata": {},
   "source": [
    "### a) Cuantas variables y cuantas observaciones tienen la base"
   ]
  },
  {
   "cell_type": "code",
   "execution_count": 61,
   "metadata": {},
   "outputs": [
    {
     "name": "stdout",
     "output_type": "stream",
     "text": [
      "<class 'pandas.core.frame.DataFrame'>\n",
      "RangeIndex: 1000 entries, 0 to 999\n",
      "Data columns (total 44 columns):\n",
      " #   Column                   Non-Null Count  Dtype\n",
      "---  ------                   --------------  -----\n",
      " 0   meses                    1000 non-null   int64\n",
      " 1   cantidad                 1000 non-null   int64\n",
      " 2   tasa_de_interes          1000 non-null   int64\n",
      " 3   años_actual_domicilio    1000 non-null   int64\n",
      " 4   edad                     1000 non-null   int64\n",
      " 5   numero_creditos          1000 non-null   int64\n",
      " 6   dependientes_economicos  1000 non-null   int64\n",
      " 7   telefono                 1000 non-null   int64\n",
      " 8   extranjero               1000 non-null   int64\n",
      " 9   credito_pagado           1000 non-null   int64\n",
      " 10  sin_cuenta               1000 non-null   int64\n",
      " 11  cero_a_200               1000 non-null   int64\n",
      " 12  mas_de_200               1000 non-null   int64\n",
      " 13  pago_algun_credito       1000 non-null   int64\n",
      " 14  pago_retrasado           1000 non-null   int64\n",
      " 15  pago_todos               1000 non-null   int64\n",
      " 16  sin_creditos             1000 non-null   int64\n",
      " 17  TV                       1000 non-null   int64\n",
      " 18  coche_nuevo              1000 non-null   int64\n",
      " 19  coche_usado              1000 non-null   int64\n",
      " 20  colegiaturas             1000 non-null   int64\n",
      " 21  mobiliario               1000 non-null   int64\n",
      " 22  otros                    1000 non-null   int64\n",
      " 23  poner_negocio            1000 non-null   int64\n",
      " 24  reestructuración         1000 non-null   int64\n",
      " 25  reparaciones             1000 non-null   int64\n",
      " 26  menor_100                1000 non-null   int64\n",
      " 27  100_a_500                1000 non-null   int64\n",
      " 28  500_a_1000               1000 non-null   int64\n",
      " 29  1_a_4                    1000 non-null   int64\n",
      " 30  4_a_7                    1000 non-null   int64\n",
      " 31  desempleado              1000 non-null   int64\n",
      " 32  menor_a_1                1000 non-null   int64\n",
      " 33  hombre_soltero           1000 non-null   int64\n",
      " 34  mujer_no_soltera         1000 non-null   int64\n",
      " 35  bienes_raices            1000 non-null   int64\n",
      " 36  seguro_vida              1000 non-null   int64\n",
      " 37  sin_activos              1000 non-null   int64\n",
      " 38  bancario                 1000 non-null   int64\n",
      " 39  propia                   1000 non-null   int64\n",
      " 40  renta                    1000 non-null   int64\n",
      " 41  desempleado              1000 non-null   int64\n",
      " 42  gobierno                 1000 non-null   int64\n",
      " 43  obrero                   1000 non-null   int64\n",
      "dtypes: int64(44)\n",
      "memory usage: 343.9 KB\n"
     ]
    }
   ],
   "source": [
    "datos_dummies.info()"
   ]
  },
  {
   "cell_type": "markdown",
   "metadata": {},
   "source": [
    "La base con las dummies cuenta con 44 cariables (columnas) y 1000 registros cada una."
   ]
  },
  {
   "cell_type": "markdown",
   "metadata": {},
   "source": [
    "### b) Cuál es el monto promedio de los créditos otorgados por el banco"
   ]
  },
  {
   "cell_type": "code",
   "execution_count": 22,
   "metadata": {},
   "outputs": [
    {
     "name": "stdout",
     "output_type": "stream",
     "text": [
      "El monto promedio de los creditos otorgados por el banco a sus clientes es de: 3271.26 Euros\n"
     ]
    }
   ],
   "source": [
    "monto_promedio = round(datos_dummies['cantidad'].mean(),2)\n",
    "print('El monto promedio de los creditos otorgados por el banco a sus clientes es de:', monto_promedio, 'Euros')"
   ]
  },
  {
   "cell_type": "markdown",
   "metadata": {},
   "source": [
    "### c)  Cuál es el tiempo promedio que se tardaron en pagar el préstamo los que pagaron el préstamo en su totalidad"
   ]
  },
  {
   "cell_type": "code",
   "execution_count": 23,
   "metadata": {},
   "outputs": [
    {
     "name": "stdout",
     "output_type": "stream",
     "text": [
      "El tiempo promedio que tardaron en pagar sus prestamos los que ya lo pagaron por completo, es de: 19.21 meses\n"
     ]
    }
   ],
   "source": [
    "pago_promedio = (round(datos_dummies.query('credito_pagado==1')['meses'].mean(),2))\n",
    "print(\"El tiempo promedio que tardaron en pagar sus prestamos los que ya lo pagaron por completo, es de:\", pago_promedio, \"meses\")"
   ]
  },
  {
   "cell_type": "markdown",
   "metadata": {},
   "source": [
    "### d)  Cuál es la tasa de interés promedio otorgada por el banco"
   ]
  },
  {
   "cell_type": "code",
   "execution_count": 24,
   "metadata": {},
   "outputs": [
    {
     "name": "stdout",
     "output_type": "stream",
     "text": [
      "La tasa de interes promedio otorgada por el banco es de  2.973 %\n"
     ]
    }
   ],
   "source": [
    "tasa_interes_promedio = datos_dummies[\"tasa_de_interes\"].mean()\n",
    "print('La tasa de interes promedio otorgada por el banco es de ',tasa_interes_promedio, '%')"
   ]
  },
  {
   "cell_type": "markdown",
   "metadata": {},
   "source": [
    "### e)  Cuál es el monto promedio y la tasa de interés promedio de los que ya pagaron"
   ]
  },
  {
   "cell_type": "code",
   "execution_count": 25,
   "metadata": {},
   "outputs": [
    {
     "name": "stdout",
     "output_type": "stream",
     "text": [
      "El monto promedio prestado a los clientes que ya pagaron su prestamo fue de: 2985.46 Euros\n",
      "Con una tasa de interes de: 2.92 %\n"
     ]
    }
   ],
   "source": [
    "monto_promedio_pagaron = round(datos_dummies.query(\"credito_pagado==1\")[\"cantidad\"].mean(),2)\n",
    "tasa_interes_promedio_pagaron = datos_dummies.query(\"credito_pagado==1\")[\"tasa_de_interes\"].mean()\n",
    "\n",
    "print(\"El monto promedio prestado a los clientes que ya pagaron su prestamo fue de:\", monto_promedio_pagaron, 'Euros')\n",
    "print(\"Con una tasa de interes de:\", tasa_interes_promedio_pagaron,'%')"
   ]
  },
  {
   "cell_type": "markdown",
   "metadata": {},
   "source": [
    "### f) Cuál es el monto promedio y la tasa de interés promedio de los que no han pagado "
   ]
  },
  {
   "cell_type": "code",
   "execution_count": 26,
   "metadata": {},
   "outputs": [
    {
     "name": "stdout",
     "output_type": "stream",
     "text": [
      "El monto promedio prestado a los que ya pagaron su prestamo fue de: 3938.13 Euros\n",
      "con una tasa de interes de: 3.1 %\n"
     ]
    }
   ],
   "source": [
    "monto_promedio_no_pagaron = round(datos_dummies.query(\"credito_pagado==0\")[\"cantidad\"].mean(),2)\n",
    "tasa_interes_promedio_no_pagaron = round(datos_dummies.query(\"credito_pagado==0\")[\"tasa_de_interes\"].mean(),2)\n",
    "\n",
    "print(\"El monto promedio prestado a los que ya pagaron su prestamo fue de:\", monto_promedio_no_pagaron, 'Euros')\n",
    "print(\"con una tasa de interes de:\", tasa_interes_promedio_no_pagaron, '%')"
   ]
  },
  {
   "cell_type": "markdown",
   "metadata": {},
   "source": [
    "# 8. Tiempo promedio de supervivencia"
   ]
  },
  {
   "cell_type": "code",
   "execution_count": 27,
   "metadata": {},
   "outputs": [
    {
     "name": "stdout",
     "output_type": "stream",
     "text": [
      "El tiempo promedio de supervivencia de la base de datos es: 20.9 meses\n"
     ]
    }
   ],
   "source": [
    "print(\"El tiempo promedio de supervivencia de la base de datos es:\", round(datos_dummies[\"meses\"].mean(),2),'meses')"
   ]
  },
  {
   "cell_type": "markdown",
   "metadata": {},
   "source": [
    "# 9.  Calcula la función de supervivencia y grafícala utilizando Kaplan-Meier y obtén la mediana ¿qué significa la mediana?"
   ]
  },
  {
   "cell_type": "code",
   "execution_count": 58,
   "metadata": {},
   "outputs": [
    {
     "data": {
      "image/png": "[encoded data removed]",
      "text/plain": [
       "<Figure size 1000x600 with 1 Axes>"
      ]
     },
     "metadata": {},
     "output_type": "display_data"
    },
    {
     "data": {
      "text/plain": [
       "24.0"
      ]
     },
     "execution_count": 58,
     "metadata": {},
     "output_type": "execute_result"
    }
   ],
   "source": [
    "km1 = KaplanMeierFitter().fit(datos_dummies[\"meses\"], datos_dummies[\"credito_pagado\"])\n",
    "km1.plot_survival_function()\n",
    "plt.title('Funcion de supervivencia ')\n",
    "plt.xlabel('Meses')\n",
    "plt.ylabel('Riesgo')\n",
    "plt.yticks(np.arange(0,1.1,0.1))\n",
    "plt.xticks(range(0,73,6))\n",
    "plt.show()\n",
    "km1.median_survival_time_"
   ]
  },
  {
   "cell_type": "markdown",
   "metadata": {},
   "source": [
    "La mediana del tiempo que tardan en pagar los clientes es de 24 meses, esto significa que la mitad de la gente pago antes de los 24 meses"
   ]
  },
  {
   "cell_type": "markdown",
   "metadata": {},
   "source": [
    "# 10. Elige construye una variable (por ejemplo, para la del crédito bancario, si debe más de 500 mil 1, y 0 si debe menos), estima y grafica la función de supervivencia por Kaplan-meier para cada grupo"
   ]
  },
  {
   "cell_type": "code",
   "execution_count": 29,
   "metadata": {},
   "outputs": [],
   "source": [
    "datos['credito_bancario'] = (datos['cantidad'] > 10000).astype(int)"
   ]
  },
  {
   "cell_type": "code",
   "execution_count": 30,
   "metadata": {},
   "outputs": [],
   "source": [
    "credito_alta = datos.query('credito_bancario==1')\n",
    "credito_baja = datos.query('credito_bancario==0')"
   ]
  },
  {
   "cell_type": "code",
   "execution_count": 31,
   "metadata": {},
   "outputs": [],
   "source": [
    "km2a = KaplanMeierFitter().fit(credito_alta['meses'], credito_alta['credito_pagado'])\n",
    "km2b = KaplanMeierFitter().fit(credito_baja['meses'], credito_baja['credito_pagado'])"
   ]
  },
  {
   "cell_type": "code",
   "execution_count": 59,
   "metadata": {},
   "outputs": [
    {
     "data": {
      "image/png": "[encoded data removed]",
      "text/plain": [
       "<Figure size 1000x600 with 1 Axes>"
      ]
     },
     "metadata": {},
     "output_type": "display_data"
    }
   ],
   "source": [
    "plt.figure(figsize=(10, 6))\n",
    "km2a.plot_survival_function(label='Crédito alta')\n",
    "km2b.plot_survival_function(label='Crédito baja')\n",
    "plt.xlabel('Meses')\n",
    "plt.ylabel('Probabilidad de Supervivencia')\n",
    "plt.yticks(np.arange(0,1.1,0.1))\n",
    "plt.xticks(range(0,73,6))\n",
    "plt.title('Función de Supervivencia Kaplan-Meier por Grupo de Deuda')\n",
    "plt.show()"
   ]
  },
  {
   "cell_type": "markdown",
   "metadata": {},
   "source": [
    "# 11. Prueba Si las funciones de supervivencia son distintas usando el log rank test y comenta el resultado\n"
   ]
  },
  {
   "cell_type": "code",
   "execution_count": 33,
   "metadata": {},
   "outputs": [
    {
     "data": {
      "text/html": [
       "<div>\n",
       "<style scoped>\n",
       "    .dataframe tbody tr th:only-of-type {\n",
       "        vertical-align: middle;\n",
       "    }\n",
       "\n",
       "    .dataframe tbody tr th {\n",
       "        vertical-align: top;\n",
       "    }\n",
       "\n",
       "    .dataframe thead th {\n",
       "        text-align: right;\n",
       "    }\n",
       "</style>\n",
       "<table border=\"1\" class=\"dataframe\">\n",
       "  <tbody>\n",
       "    <tr>\n",
       "      <th>t_0</th>\n",
       "      <td>-1</td>\n",
       "    </tr>\n",
       "    <tr>\n",
       "      <th>null_distribution</th>\n",
       "      <td>chi squared</td>\n",
       "    </tr>\n",
       "    <tr>\n",
       "      <th>degrees_of_freedom</th>\n",
       "      <td>1</td>\n",
       "    </tr>\n",
       "    <tr>\n",
       "      <th>test_name</th>\n",
       "      <td>logrank_test</td>\n",
       "    </tr>\n",
       "  </tbody>\n",
       "</table>\n",
       "</div><table border=\"1\" class=\"dataframe\">\n",
       "  <thead>\n",
       "    <tr style=\"text-align: right;\">\n",
       "      <th></th>\n",
       "      <th>test_statistic</th>\n",
       "      <th>p</th>\n",
       "      <th>-log2(p)</th>\n",
       "    </tr>\n",
       "  </thead>\n",
       "  <tbody>\n",
       "    <tr>\n",
       "      <th>0</th>\n",
       "      <td>47.29</td>\n",
       "      <td>&lt;0.005</td>\n",
       "      <td>37.25</td>\n",
       "    </tr>\n",
       "  </tbody>\n",
       "</table>"
      ],
      "text/latex": [
       "\\begin{tabular}{lrrr}\n",
       " & test_statistic & p & -log2(p) \\\\\n",
       "0 & 47.29 & 0.00 & 37.25 \\\\\n",
       "\\end{tabular}\n"
      ],
      "text/plain": [
       "<lifelines.StatisticalResult: logrank_test>\n",
       "               t_0 = -1\n",
       " null_distribution = chi squared\n",
       "degrees_of_freedom = 1\n",
       "         test_name = logrank_test\n",
       "\n",
       "---\n",
       " test_statistic      p  -log2(p)\n",
       "          47.29 <0.005     37.25"
      ]
     },
     "metadata": {},
     "output_type": "display_data"
    }
   ],
   "source": [
    "logrt=logrank_test(credito_alta['meses'], credito_baja['meses'], credito_alta['credito_pagado'], credito_baja['credito_pagado'])\n",
    "logrt.print_summary()"
   ]
  },
  {
   "cell_type": "code",
   "execution_count": 34,
   "metadata": {},
   "outputs": [],
   "source": [
    "pvalor = logrt.p_value.round(2)"
   ]
  },
  {
   "cell_type": "code",
   "execution_count": 35,
   "metadata": {},
   "outputs": [
    {
     "name": "stdout",
     "output_type": "stream",
     "text": [
      "Ho: Las funcines de supervivencia son iguales\n",
      "Ha: Las funcines de supervivencia no son iguales\n",
      "\n",
      "p_valor = 0.0 < 0.05\n",
      "Rechazamos H0. Las funciones de supervivencia son distintas.\n",
      "Los individuos con el credito de alta deuda tienen una mayor probabilidad de pagar el credito en comparacion con los de credito bajo.\n"
     ]
    }
   ],
   "source": [
    "print(f'Ho: Las funcines de supervivencia son iguales\\nHa: Las funcines de supervivencia no son iguales\\n\\np_valor = {pvalor.round(2)} < 0.05\\nRechazamos H0. Las funciones de supervivencia son distintas.\\nLos individuos con el credito de alta deuda tienen una mayor probabilidad de pagar el credito en comparacion con los de credito bajo.')"
   ]
  },
  {
   "cell_type": "markdown",
   "metadata": {},
   "source": [
    "# 12. Ahora estima un modelo de Cox"
   ]
  },
  {
   "cell_type": "markdown",
   "metadata": {},
   "source": [
    "### a) A parte de “tasa de interes” y “cantidad”, elige otras cuatro variables que creas que afectan el riesgo del evento"
   ]
  },
  {
   "cell_type": "markdown",
   "metadata": {},
   "source": [
    "Para la estimacion del modelo de Cox se escogieron las sigientes variables:\n",
    "\n",
    "- **edad**\n",
    "- **casa**\n",
    "- **extranjero**\n",
    "- **numero_creditos**"
   ]
  },
  {
   "cell_type": "markdown",
   "metadata": {},
   "source": [
    "### b) Di si cada una de las 6 variables que elegiste, aumentan/disminuyen el riesgo del evento y por qué"
   ]
  },
  {
   "cell_type": "markdown",
   "metadata": {},
   "source": [
    "- **cantidad**: Se esperaria que por cada euro prestado el riesgo de pagar el credito disminuya a causa de que el monto al ser mayor, seria mas dificil para los prestatarios conseguir dicha natidad.\n",
    "\n",
    "- **tasa de interes**: Se espera que mientras mayor sea el interes, el riesgo de pagar el credito diminuya a causa de que para los prestatarios sera mas dificil solventar el prestamo mientras mayor sea la tasa de interes.\n",
    "\n",
    "- **edad**: Esperaria que mientras mayor edad tenga los prestatarios tengan una economia mas estable y puedan pagar antes o aumente el riesgo de pagar su deuda.\n",
    "\n",
    "- **casa**: Se espera que al tener casa propia, entonces, de esta manera signifique que tenga una economia mas estable y pueda pagar antes o aumente el riesgo de pagar su deuda en comparacion con los que no tienen casa propia.\n",
    "\n",
    "- **extranjero**: Al ser un prestatario de otra nacion, su compromiso con saldar la deuda con bancos de otra nacionalidad no es tan grande y por l tanto se esperaria que esta variable disminuya el reisgo de pagar la deuda.\n",
    "\n",
    "- **numero_creditos**: Al contar con mayor cantidad de creditos, considerando que mientras mas creditos tenga es porque si suele pagar pensando en que si el banco les presto antes y pago, entonces, es un prestatario que si suele pagar sus prestamos. Asi que se esperaria que esta variable aumente el riesgo de pagar el credito."
   ]
  },
  {
   "cell_type": "markdown",
   "metadata": {},
   "source": [
    "### c) Realiza las transformaciones adecuadas para utilizar las variables en un modelo de cox"
   ]
  },
  {
   "cell_type": "code",
   "execution_count": 36,
   "metadata": {},
   "outputs": [
    {
     "name": "stderr",
     "output_type": "stream",
     "text": [
      "C:\\Users\\A\\AppData\\Local\\Temp\\ipykernel_4856\\3730355494.py:2: SettingWithCopyWarning: \n",
      "A value is trying to be set on a copy of a slice from a DataFrame.\n",
      "Try using .loc[row_indexer,col_indexer] = value instead\n",
      "\n",
      "See the caveats in the documentation: https://pandas.pydata.org/pandas-docs/stable/user_guide/indexing.html#returning-a-view-versus-a-copy\n",
      "  datos_cox['casa'] = np.where(datos_cox['casa'] == 'propia', 1, 0) # la variable casa se tomara como 1-> si tine casa propia, 0-> si no tiene casa propia\n"
     ]
    },
    {
     "data": {
      "text/plain": [
       "0"
      ]
     },
     "execution_count": 36,
     "metadata": {},
     "output_type": "execute_result"
    }
   ],
   "source": [
    "datos_cox = datos[['credito_pagado', 'meses', 'tasa_de_interes', 'cantidad', 'edad', 'casa', 'extranjero', 'numero_creditos']]\n",
    "datos_cox['casa'] = np.where(datos_cox['casa'] == 'propia', 1, 0) # la variable casa se tomara como 1-> si tine casa propia, 0-> si no tiene casa propia\n",
    "\n",
    "datos_cox.isnull().sum().sum()"
   ]
  },
  {
   "cell_type": "markdown",
   "metadata": {},
   "source": [
    "La nueva base tiene solo variables numericas y sin missing values"
   ]
  },
  {
   "cell_type": "markdown",
   "metadata": {},
   "source": [
    "### d) Estima un modelo de cox con las variables elegidas e interpreta los coeficientes"
   ]
  },
  {
   "cell_type": "code",
   "execution_count": 37,
   "metadata": {},
   "outputs": [
    {
     "data": {
      "text/html": [
       "<div>\n",
       "<style scoped>\n",
       "    .dataframe tbody tr th:only-of-type {\n",
       "        vertical-align: middle;\n",
       "    }\n",
       "\n",
       "    .dataframe tbody tr th {\n",
       "        vertical-align: top;\n",
       "    }\n",
       "\n",
       "    .dataframe thead th {\n",
       "        text-align: right;\n",
       "    }\n",
       "</style>\n",
       "<table border=\"1\" class=\"dataframe\">\n",
       "  <tbody>\n",
       "    <tr>\n",
       "      <th>model</th>\n",
       "      <td>lifelines.CoxPHFitter</td>\n",
       "    </tr>\n",
       "    <tr>\n",
       "      <th>duration col</th>\n",
       "      <td>'meses'</td>\n",
       "    </tr>\n",
       "    <tr>\n",
       "      <th>event col</th>\n",
       "      <td>'credito_pagado'</td>\n",
       "    </tr>\n",
       "    <tr>\n",
       "      <th>baseline estimation</th>\n",
       "      <td>breslow</td>\n",
       "    </tr>\n",
       "    <tr>\n",
       "      <th>number of observations</th>\n",
       "      <td>1000</td>\n",
       "    </tr>\n",
       "    <tr>\n",
       "      <th>number of events observed</th>\n",
       "      <td>700</td>\n",
       "    </tr>\n",
       "    <tr>\n",
       "      <th>partial log-likelihood</th>\n",
       "      <td>-4039.72</td>\n",
       "    </tr>\n",
       "    <tr>\n",
       "      <th>time fit was run</th>\n",
       "      <td>2023-11-13 06:04:54 UTC</td>\n",
       "    </tr>\n",
       "  </tbody>\n",
       "</table>\n",
       "</div><table border=\"1\" class=\"dataframe\">\n",
       "  <thead>\n",
       "    <tr style=\"text-align: right;\">\n",
       "      <th style=\"min-width: 12px;\"></th>\n",
       "      <th style=\"min-width: 12px;\">coef</th>\n",
       "      <th style=\"min-width: 12px;\">exp(coef)</th>\n",
       "      <th style=\"min-width: 12px;\">se(coef)</th>\n",
       "      <th style=\"min-width: 12px;\">coef lower 95%</th>\n",
       "      <th style=\"min-width: 12px;\">coef upper 95%</th>\n",
       "      <th style=\"min-width: 12px;\">exp(coef) lower 95%</th>\n",
       "      <th style=\"min-width: 12px;\">exp(coef) upper 95%</th>\n",
       "      <th style=\"min-width: 12px;\">cmp to</th>\n",
       "      <th style=\"min-width: 12px;\">z</th>\n",
       "      <th style=\"min-width: 12px;\">p</th>\n",
       "      <th style=\"min-width: 12px;\">-log2(p)</th>\n",
       "    </tr>\n",
       "  </thead>\n",
       "  <tbody>\n",
       "    <tr>\n",
       "      <th>tasa_de_interes</th>\n",
       "      <td>-0.41</td>\n",
       "      <td>0.67</td>\n",
       "      <td>0.04</td>\n",
       "      <td>-0.48</td>\n",
       "      <td>-0.33</td>\n",
       "      <td>0.62</td>\n",
       "      <td>0.72</td>\n",
       "      <td>0.00</td>\n",
       "      <td>-11.08</td>\n",
       "      <td>&lt;0.005</td>\n",
       "      <td>92.44</td>\n",
       "    </tr>\n",
       "    <tr>\n",
       "      <th>cantidad</th>\n",
       "      <td>-0.00</td>\n",
       "      <td>1.00</td>\n",
       "      <td>0.00</td>\n",
       "      <td>-0.00</td>\n",
       "      <td>-0.00</td>\n",
       "      <td>1.00</td>\n",
       "      <td>1.00</td>\n",
       "      <td>0.00</td>\n",
       "      <td>-16.13</td>\n",
       "      <td>&lt;0.005</td>\n",
       "      <td>192.12</td>\n",
       "    </tr>\n",
       "    <tr>\n",
       "      <th>edad</th>\n",
       "      <td>0.02</td>\n",
       "      <td>1.02</td>\n",
       "      <td>0.00</td>\n",
       "      <td>0.01</td>\n",
       "      <td>0.02</td>\n",
       "      <td>1.01</td>\n",
       "      <td>1.02</td>\n",
       "      <td>0.00</td>\n",
       "      <td>4.54</td>\n",
       "      <td>&lt;0.005</td>\n",
       "      <td>17.47</td>\n",
       "    </tr>\n",
       "    <tr>\n",
       "      <th>casa</th>\n",
       "      <td>0.21</td>\n",
       "      <td>1.23</td>\n",
       "      <td>0.09</td>\n",
       "      <td>0.04</td>\n",
       "      <td>0.38</td>\n",
       "      <td>1.04</td>\n",
       "      <td>1.46</td>\n",
       "      <td>0.00</td>\n",
       "      <td>2.36</td>\n",
       "      <td>0.02</td>\n",
       "      <td>5.77</td>\n",
       "    </tr>\n",
       "    <tr>\n",
       "      <th>extranjero</th>\n",
       "      <td>-1.20</td>\n",
       "      <td>0.30</td>\n",
       "      <td>0.18</td>\n",
       "      <td>-1.56</td>\n",
       "      <td>-0.84</td>\n",
       "      <td>0.21</td>\n",
       "      <td>0.43</td>\n",
       "      <td>0.00</td>\n",
       "      <td>-6.50</td>\n",
       "      <td>&lt;0.005</td>\n",
       "      <td>33.53</td>\n",
       "    </tr>\n",
       "    <tr>\n",
       "      <th>numero_creditos</th>\n",
       "      <td>0.12</td>\n",
       "      <td>1.12</td>\n",
       "      <td>0.07</td>\n",
       "      <td>-0.01</td>\n",
       "      <td>0.25</td>\n",
       "      <td>0.99</td>\n",
       "      <td>1.28</td>\n",
       "      <td>0.00</td>\n",
       "      <td>1.74</td>\n",
       "      <td>0.08</td>\n",
       "      <td>3.61</td>\n",
       "    </tr>\n",
       "  </tbody>\n",
       "</table><br><div>\n",
       "<style scoped>\n",
       "    .dataframe tbody tr th:only-of-type {\n",
       "        vertical-align: middle;\n",
       "    }\n",
       "\n",
       "    .dataframe tbody tr th {\n",
       "        vertical-align: top;\n",
       "    }\n",
       "\n",
       "    .dataframe thead th {\n",
       "        text-align: right;\n",
       "    }\n",
       "</style>\n",
       "<table border=\"1\" class=\"dataframe\">\n",
       "  <tbody>\n",
       "    <tr>\n",
       "      <th>Concordance</th>\n",
       "      <td>0.78</td>\n",
       "    </tr>\n",
       "    <tr>\n",
       "      <th>Partial AIC</th>\n",
       "      <td>8091.43</td>\n",
       "    </tr>\n",
       "    <tr>\n",
       "      <th>log-likelihood ratio test</th>\n",
       "      <td>459.34 on 6 df</td>\n",
       "    </tr>\n",
       "    <tr>\n",
       "      <th>-log2(p) of ll-ratio test</th>\n",
       "      <td>316.64</td>\n",
       "    </tr>\n",
       "  </tbody>\n",
       "</table>\n",
       "</div>"
      ],
      "text/latex": [
       "\\begin{tabular}{lrrrrrrrrrrr}\n",
       " & coef & exp(coef) & se(coef) & coef lower 95% & coef upper 95% & exp(coef) lower 95% & exp(coef) upper 95% & cmp to & z & p & -log2(p) \\\\\n",
       "covariate &  &  &  &  &  &  &  &  &  &  &  \\\\\n",
       "tasa_de_interes & -0.41 & 0.67 & 0.04 & -0.48 & -0.33 & 0.62 & 0.72 & 0.00 & -11.08 & 0.00 & 92.44 \\\\\n",
       "cantidad & -0.00 & 1.00 & 0.00 & -0.00 & -0.00 & 1.00 & 1.00 & 0.00 & -16.13 & 0.00 & 192.12 \\\\\n",
       "edad & 0.02 & 1.02 & 0.00 & 0.01 & 0.02 & 1.01 & 1.02 & 0.00 & 4.54 & 0.00 & 17.47 \\\\\n",
       "casa & 0.21 & 1.23 & 0.09 & 0.04 & 0.38 & 1.04 & 1.46 & 0.00 & 2.36 & 0.02 & 5.77 \\\\\n",
       "extranjero & -1.20 & 0.30 & 0.18 & -1.56 & -0.84 & 0.21 & 0.43 & 0.00 & -6.50 & 0.00 & 33.53 \\\\\n",
       "numero_creditos & 0.12 & 1.12 & 0.07 & -0.01 & 0.25 & 0.99 & 1.28 & 0.00 & 1.74 & 0.08 & 3.61 \\\\\n",
       "\\end{tabular}\n"
      ],
      "text/plain": [
       "<lifelines.CoxPHFitter: fitted with 1000 total observations, 300 right-censored observations>\n",
       "             duration col = 'meses'\n",
       "                event col = 'credito_pagado'\n",
       "      baseline estimation = breslow\n",
       "   number of observations = 1000\n",
       "number of events observed = 700\n",
       "   partial log-likelihood = -4039.72\n",
       "         time fit was run = 2023-11-13 06:04:54 UTC\n",
       "\n",
       "---\n",
       "                  coef  exp(coef)   se(coef)   coef lower 95%   coef upper 95%  exp(coef) lower 95%  exp(coef) upper 95%\n",
       "covariate                                                                                                               \n",
       "tasa_de_interes  -0.41       0.67       0.04            -0.48            -0.33                 0.62                 0.72\n",
       "cantidad         -0.00       1.00       0.00            -0.00            -0.00                 1.00                 1.00\n",
       "edad              0.02       1.02       0.00             0.01             0.02                 1.01                 1.02\n",
       "casa              0.21       1.23       0.09             0.04             0.38                 1.04                 1.46\n",
       "extranjero       -1.20       0.30       0.18            -1.56            -0.84                 0.21                 0.43\n",
       "numero_creditos   0.12       1.12       0.07            -0.01             0.25                 0.99                 1.28\n",
       "\n",
       "                  cmp to      z      p   -log2(p)\n",
       "covariate                                        \n",
       "tasa_de_interes     0.00 -11.08 <0.005      92.44\n",
       "cantidad            0.00 -16.13 <0.005     192.12\n",
       "edad                0.00   4.54 <0.005      17.47\n",
       "casa                0.00   2.36   0.02       5.77\n",
       "extranjero          0.00  -6.50 <0.005      33.53\n",
       "numero_creditos     0.00   1.74   0.08       3.61\n",
       "---\n",
       "Concordance = 0.78\n",
       "Partial AIC = 8091.43\n",
       "log-likelihood ratio test = 459.34 on 6 df\n",
       "-log2(p) of ll-ratio test = 316.64"
      ]
     },
     "metadata": {},
     "output_type": "display_data"
    }
   ],
   "source": [
    "cph = CoxPHFitter().fit(datos_cox, 'meses', 'credito_pagado')\n",
    "cph.print_summary()"
   ]
  },
  {
   "cell_type": "markdown",
   "metadata": {},
   "source": [
    "- **tasa_de_interes:** Debido a que el p_valor < 0.05; Entonces esta variable si afecta al riesgo de pagar el credito, y por cada punto de porcentaje (1%) de interes el riesgo diminuye en 33% (suponiendo que en la tabla 2 significa 2%).\n",
    "\n",
    "- **cantidad:** Debido a que el p_valor < 0.05; Entonces esta variable si afecta al riesgo de pagar el credito, y por cada Euro el riesgo de pagar el credito dismimuye en 0.00037%.\n",
    "\n",
    "- **edad:** Debido a que el p_valor < 0.05; Entonces esta variable si afecta al riesgo de pagar el credito, y por cada año de edad el riesgo de pagar el credito aumenta en 2%.\n",
    "\n",
    "- **casa:** Debido a que el p_valor < 0.05; Entonces esta variable si afecta al riesgo de pagar el credito, y por tener casa propia aumenta el riesgo de pagar el credito en 23% en comparacion con no tener casa propia.\n",
    "\n",
    "- **extranjero:** Debido a que el p_valor < 0.05; Entonces esta variable si afecta al riesgo de pagar el credito, y por ser extranjero disminuye el riesgo de pagar el credito en 70% en comparacion con no ser extranjero.\n",
    "\n",
    "- **numero_creditos:** Debido a que el p_valor > 0.05; Entonces esta variable NO afecta al riesgo de pagar el credito."
   ]
  },
  {
   "cell_type": "markdown",
   "metadata": {},
   "source": [
    "# 13. Interpreta cada uno de los coeficientes obtenidos. Utiliza cph.plot() para ayudarte con la interpretación."
   ]
  },
  {
   "cell_type": "code",
   "execution_count": 66,
   "metadata": {},
   "outputs": [
    {
     "data": {
      "image/png": "[encoded data removed]",
      "text/plain": [
       "<Figure size 1000x600 with 1 Axes>"
      ]
     },
     "metadata": {},
     "output_type": "display_data"
    }
   ],
   "source": [
    "cph.plot()\n",
    "plt.title(\"Gráfica de coeficientes obtenidos\", fontsize=20)\n",
    "plt.show()"
   ]
  },
  {
   "cell_type": "markdown",
   "metadata": {},
   "source": [
    "El significaod de esta grafica nos sirve para saber que variables son significativas. La grafica nos dice que si el intervalo de confianza del 95% abarca el 0, entonces esta variable no afecta, ademas de utilizar la interpretacion con el p_valor.\n",
    "\n",
    "Como podemos ver la unica variable que contiene el 0 en su intervao de confianza es la variable 'numero_creditos'.\n",
    "Para las variables de 'cantidad' y 'edad' se podria confundir un poco mediante la grafica, pero a travez del punto anterior en el resumen del modelo podmos ver que los intervalos de confianza para:\n",
    "\n",
    "- 'edad' [0.01 a 0.02]\n",
    "- 'cantidad [-0 a -0] (el simbolo negativo nos confirma que su intervalo es de un valor negaivo a otro negativo, entonces el 0 no lo abarca)."
   ]
  },
  {
   "cell_type": "markdown",
   "metadata": {},
   "source": [
    "# 14. Con base en los cálculos realizados, redacta un comentario integral de por lo menos 250 palabras que resuma el análisis, reflexiones y recomendaciones sobre la política de otorgamiento de créditos en el Banco de la Ilusión. "
   ]
  },
  {
   "cell_type": "markdown",
   "metadata": {},
   "source": [
    "En este análisis, nuestro objetivo era estudiar el comportamiento de los clientes que solicitan préstamos y los factores que influyen en el riesgo de impago. Para ello, utilizamos una muestra de datos de 1000 clientes que solicitaron préstamos entre enero y diciembre de 2023. Los datos incluían variables como la cantidad solicitada, la tasa de interés, el plazo, la edad, el estado civil, el nivel educativo, el tipo de vivienda y la nacionalidad.\n",
    "\n",
    "\n",
    "Con las actuales políticas, el monto promedio de préstamo por cliente es de 3271.25 Euros y en promedio se tardan en pagar el crédito 21 meses, pero la mitad de los prestatarios pagan antes de los 24 meses. La tasa de interés promedio es de 2.973% y el riesgo de impago tiene una forma tipo log-normal. Esto significa que la mayoría de los clientes tienen un riesgo bajo o moderado, pero hay algunos casos extremos con un riesgo muy alto.\n",
    "\n",
    "\n",
    "También descubrimos que aparte de las variables de ‘tasa de interés’ y ‘cantidad’, otras buenas variables que influyen en el riesgo de impago en nuestro modelo son las variables ‘edad’, ‘casa’ y ‘extranjero’. Observamos que a mayor edad, menor es el riesgo de impago, lo que puede deberse a una mayor estabilidad financiera y laboral. Asimismo, tener una casa propia reduce el riesgo de impago, ya que implica un menor gasto en alquiler y una mayor capacidad de ahorro. Por último, ser extranjero disminuye mucho la probabilidad de no pagar el crédito en comparación con no ser extranjero. Esto puede deberse a que los extranjeros tienen más dificultades para acceder al crédito y por tanto son más cuidadosos a la hora de devolverlo.\n",
    "\n",
    "Por lo tanto, se recomienda regular las políticas de préstamo a extranjeros, ya que son un segmento con un alto riesgo de inpago y una alta demanda potencial. También se sugiere revisar los criterios de elegibilidad y las condiciones de los préstamos para adaptarlos mejor al perfil y las necesidades de cada cliente.\n"
   ]
  },
  {
   "cell_type": "markdown",
   "metadata": {},
   "source": [
    "# 15. Por último, investiga y señala las limitaciones de Kaplan-Meier y del modelo de Cox "
   ]
  },
  {
   "cell_type": "markdown",
   "metadata": {},
   "source": [
    "#### Kaplan-Meier\n",
    "- Asume que la censura es no informativa, es decir, que los casos censurados tienen la misma probabilidad de supervivencia que los casos no censurados. Esta suposición puede no ser válida si existen factores o tratamientos variables en el tiempo que puedan influir en las probabilidades de supervivencia.\n",
    "\n",
    "- No permite incorporar variables explicativas o covariables que puedan afectar a la supervivencia.\n",
    "\n",
    "- No es adecuado para analizar datos de supervivencia en presencia de riesgos competitivos, es decir, cuando hay más de un tipo de evento que impide la ocurrencia del evento de interés.\n",
    "\n",
    "- Proporciona estimaciones puntuales de la función de supervivencia, pero no intervalos de confianza para la mediana o la media de supervivencia. Además, los intervalos de confianza para la función de supervivencia pueden ser asimétricos y no contener el valor estimado.\n",
    "\n",
    "- Requiere que los datos de supervivencia sean continuos, lo que puede no ser cierto si hay agrupamiento o intervalos de tiempo discretos. En estos casos, se pueden utilizar métodos como el de actuarial o el de Nelson-Aalen.\n",
    "\n",
    "### Modelo de Cox\n",
    "\n",
    "- Asume que los riesgos son proporcionales, es decir, que la relación entre los riesgos de muerte entre dos individuos expuestos a factores distintos no varía en función del tiempo. Esta suposición puede no ser válida si hay efectos dependientes del tiempo o interacciones entre las covariables y el tiempo.\n",
    "\n",
    "- No proporciona una estimación directa de la función de supervivencia, sino solo de la función de riesgo. Para obtener la función de supervivencia, se requiere conocer la función de riesgo de referencia, que no se estima por el modelo de Cox, sino por otros métodos como el de Kaplan-Meier.\n",
    "\n",
    "- Puede ser sensible a la presencia de valores atípicos o influyentes, que pueden distorsionar las estimaciones de los parámetros y los intervalos de confianza.\n",
    "\n",
    "- El modelo de Cox puede tener problemas de convergencia o singularidad si hay multicolinealidad entre las covariables, es decir, si hay una alta correlación entre ellas. Esto puede provocar que las estimaciones de los parámetros sean inestables o imprecisas.\n"
   ]
  }
 ],
 "metadata": {
  "kernelspec": {
   "display_name": "Python 3",
   "language": "python",
   "name": "python3"
  },
  "language_info": {
   "codemirror_mode": {
    "name": "ipython",
    "version": 3
   },
   "file_extension": ".py",
   "mimetype": "text/x-python",
   "name": "python",
   "nbconvert_exporter": "python",
   "pygments_lexer": "ipython3",
   "version": "3.10.0"
  }
 },
 "nbformat": 4,
 "nbformat_minor": 2
}
